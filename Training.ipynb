{
 "cells": [
  {
   "cell_type": "markdown",
   "id": "40c4fd5d-7247-4a80-be96-eb326b713d9d",
   "metadata": {},
   "source": [
    "### Libraries setup"
   ]
  },
  {
   "cell_type": "code",
   "execution_count": null,
   "id": "9a1f95cb-5ea4-41c2-85de-6728e9e0c4dd",
   "metadata": {},
   "outputs": [],
   "source": [
    "#!pip3 install -r requirements.txt\n",
    "!pip3 install torchinfo numpy pandas nibabel torchio tqdm matplotlib SimpleITK scikit-learn"
   ]
  },
  {
   "cell_type": "code",
   "execution_count": null,
   "id": "e372e4c9-5b20-4bf0-b799-0eddf4dd2aa5",
   "metadata": {},
   "outputs": [],
   "source": [
    "#!unzip znorm_cropped_imgs.zip -d /storage"
   ]
  },
  {
   "cell_type": "markdown",
   "id": "c381e796-0da0-426a-a4f8-8988351c4408",
   "metadata": {},
   "source": [
    "### Model testing"
   ]
  },
  {
   "cell_type": "code",
   "execution_count": 2,
   "id": "c30d34a1-61cd-466a-b6e1-2e687056a07b",
   "metadata": {},
   "outputs": [
    {
     "data": {
      "text/plain": [
       "==========================================================================================\n",
       "Layer (type:depth-idx)                   Output Shape              Param #\n",
       "==========================================================================================\n",
       "UNet                                     --                        --\n",
       "├─ModuleList: 1-1                        --                        --\n",
       "├─ModuleList: 1-2                        --                        --\n",
       "├─ModuleList: 1-1                        --                        --\n",
       "│    └─Sequential: 2-1                   [2, 64, 40, 56, 72]       --\n",
       "│    │    └─Conv3d: 3-1                  [2, 32, 40, 56, 72]       896\n",
       "│    │    └─BatchNorm3d: 3-2             [2, 32, 40, 56, 72]       64\n",
       "│    │    └─ReLU: 3-3                    [2, 32, 40, 56, 72]       --\n",
       "│    │    └─Conv3d: 3-4                  [2, 64, 40, 56, 72]       55,360\n",
       "│    │    └─BatchNorm3d: 3-5             [2, 64, 40, 56, 72]       128\n",
       "│    │    └─ReLU: 3-6                    [2, 64, 40, 56, 72]       --\n",
       "├─MaxPool3d: 1-3                         [2, 64, 20, 28, 36]       --\n",
       "├─ModuleList: 1-1                        --                        --\n",
       "│    └─Sequential: 2-2                   [2, 128, 20, 28, 36]      --\n",
       "│    │    └─Conv3d: 3-7                  [2, 64, 20, 28, 36]       110,656\n",
       "│    │    └─BatchNorm3d: 3-8             [2, 64, 20, 28, 36]       128\n",
       "│    │    └─ReLU: 3-9                    [2, 64, 20, 28, 36]       --\n",
       "│    │    └─Conv3d: 3-10                 [2, 128, 20, 28, 36]      221,312\n",
       "│    │    └─BatchNorm3d: 3-11            [2, 128, 20, 28, 36]      256\n",
       "│    │    └─ReLU: 3-12                   [2, 128, 20, 28, 36]      --\n",
       "├─MaxPool3d: 1-4                         [2, 128, 10, 14, 18]      --\n",
       "├─ModuleList: 1-1                        --                        --\n",
       "│    └─Sequential: 2-3                   [2, 256, 10, 14, 18]      --\n",
       "│    │    └─Conv3d: 3-13                 [2, 128, 10, 14, 18]      442,496\n",
       "│    │    └─BatchNorm3d: 3-14            [2, 128, 10, 14, 18]      256\n",
       "│    │    └─ReLU: 3-15                   [2, 128, 10, 14, 18]      --\n",
       "│    │    └─Conv3d: 3-16                 [2, 256, 10, 14, 18]      884,992\n",
       "│    │    └─BatchNorm3d: 3-17            [2, 256, 10, 14, 18]      512\n",
       "│    │    └─ReLU: 3-18                   [2, 256, 10, 14, 18]      --\n",
       "├─MaxPool3d: 1-5                         [2, 256, 5, 7, 9]         --\n",
       "├─Sequential: 1-6                        [2, 512, 10, 14, 18]      --\n",
       "│    └─Conv3d: 2-4                       [2, 256, 5, 7, 9]         1,769,728\n",
       "│    └─BatchNorm3d: 2-5                  [2, 256, 5, 7, 9]         512\n",
       "│    └─ReLU: 2-6                         [2, 256, 5, 7, 9]         --\n",
       "│    └─Conv3d: 2-7                       [2, 512, 5, 7, 9]         3,539,456\n",
       "│    └─BatchNorm3d: 2-8                  [2, 512, 5, 7, 9]         1,024\n",
       "│    └─ReLU: 2-9                         [2, 512, 5, 7, 9]         --\n",
       "│    └─ConvTranspose3d: 2-10             [2, 512, 10, 14, 18]      2,097,664\n",
       "├─ModuleList: 1-2                        --                        --\n",
       "│    └─Sequential: 2-11                  [2, 256, 20, 28, 36]      --\n",
       "│    │    └─Conv3d: 3-19                 [2, 256, 10, 14, 18]      5,308,672\n",
       "│    │    └─BatchNorm3d: 3-20            [2, 256, 10, 14, 18]      512\n",
       "│    │    └─ReLU: 3-21                   [2, 256, 10, 14, 18]      --\n",
       "│    │    └─Conv3d: 3-22                 [2, 256, 10, 14, 18]      1,769,728\n",
       "│    │    └─BatchNorm3d: 3-23            [2, 256, 10, 14, 18]      512\n",
       "│    │    └─ReLU: 3-24                   [2, 256, 10, 14, 18]      --\n",
       "│    │    └─ConvTranspose3d: 3-25        [2, 256, 20, 28, 36]      524,544\n",
       "│    └─Sequential: 2-12                  [2, 128, 40, 56, 72]      --\n",
       "│    │    └─Conv3d: 3-26                 [2, 128, 20, 28, 36]      1,327,232\n",
       "│    │    └─BatchNorm3d: 3-27            [2, 128, 20, 28, 36]      256\n",
       "│    │    └─ReLU: 3-28                   [2, 128, 20, 28, 36]      --\n",
       "│    │    └─Conv3d: 3-29                 [2, 128, 20, 28, 36]      442,496\n",
       "│    │    └─BatchNorm3d: 3-30            [2, 128, 20, 28, 36]      256\n",
       "│    │    └─ReLU: 3-31                   [2, 128, 20, 28, 36]      --\n",
       "│    │    └─ConvTranspose3d: 3-32        [2, 128, 40, 56, 72]      131,200\n",
       "├─Sequential: 1-7                        [2, 1, 40, 56, 72]        --\n",
       "│    └─Conv3d: 2-13                      [2, 64, 40, 56, 72]       331,840\n",
       "│    └─BatchNorm3d: 2-14                 [2, 64, 40, 56, 72]       128\n",
       "│    └─ReLU: 2-15                        [2, 64, 40, 56, 72]       --\n",
       "│    └─Conv3d: 2-16                      [2, 64, 40, 56, 72]       110,656\n",
       "│    └─BatchNorm3d: 2-17                 [2, 64, 40, 56, 72]       128\n",
       "│    └─ReLU: 2-18                        [2, 64, 40, 56, 72]       --\n",
       "│    └─Conv3d: 2-19                      [2, 1, 40, 56, 72]        65\n",
       "==========================================================================================\n",
       "Total params: 19,073,665\n",
       "Trainable params: 19,073,665\n",
       "Non-trainable params: 0\n",
       "Total mult-adds (G): 365.39\n",
       "==========================================================================================\n",
       "Input size (MB): 1.29\n",
       "Forward/backward pass size (MB): 1961.16\n",
       "Params size (MB): 76.29\n",
       "Estimated Total Size (MB): 2038.75\n",
       "=========================================================================================="
      ]
     },
     "execution_count": 2,
     "metadata": {},
     "output_type": "execute_result"
    }
   ],
   "source": [
    "from models.unet3d import UNet\n",
    "from torchinfo import summary\n",
    "\n",
    "samp_unet = UNet(1)\n",
    "summary(samp_unet, (2,1,40,56,72))\n",
    "#summary(samp_unet, (1,1,196,196,196))"
   ]
  },
  {
   "cell_type": "markdown",
   "id": "741cf21f-5a32-4e2d-aca1-55bdbb9bd9a3",
   "metadata": {},
   "source": [
    "### Model Training"
   ]
  },
  {
   "cell_type": "code",
   "execution_count": null,
   "id": "39d64467-cbd7-4e97-a821-c48e979cc31f",
   "metadata": {},
   "outputs": [],
   "source": [
    "import torchio as tio\n",
    "\n",
    "from models.unet3d import UNet\n",
    "from model_utils.train import train_model\n",
    "from data_utils.dataset import get_train_test_subjects\n",
    "\n",
    "train_subj, test_subj = get_train_test_subjects(\n",
    "    'harp_meta.csv',\n",
    "    'znorm_cropped_imgs',\n",
    "    42,\n",
    "    True\n",
    ")\n",
    "\n",
    "firstUNet = UNet(1)\n",
    "train_history = train_model(\n",
    "    model=firstUNet,\n",
    "    dir_name='znorm_cropped_imgs',\n",
    "    brain_side='L',\n",
    "    train_ids=train_subj,\n",
    "    transforms=[tio.RandomNoise()],\n",
    "    num_epochs=100,\n",
    "    learning_rate=0.001\n",
    ")"
   ]
  },
  {
   "cell_type": "code",
   "execution_count": null,
   "id": "6c5980ce-1402-4365-9aeb-7e55ee6b636b",
   "metadata": {},
   "outputs": [],
   "source": []
  }
 ],
 "metadata": {
  "kernelspec": {
   "display_name": "Python 3 (ipykernel)",
   "language": "python",
   "name": "python3"
  },
  "language_info": {
   "codemirror_mode": {
    "name": "ipython",
    "version": 3
   },
   "file_extension": ".py",
   "mimetype": "text/x-python",
   "name": "python",
   "nbconvert_exporter": "python",
   "pygments_lexer": "ipython3",
   "version": "3.9.7"
  }
 },
 "nbformat": 4,
 "nbformat_minor": 5
}
