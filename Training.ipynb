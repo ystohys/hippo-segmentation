{
 "cells": [
  {
   "cell_type": "markdown",
   "id": "40c4fd5d-7247-4a80-be96-eb326b713d9d",
   "metadata": {},
   "source": [
    "### Libraries setup"
   ]
  },
  {
   "cell_type": "code",
   "execution_count": null,
   "id": "9a1f95cb-5ea4-41c2-85de-6728e9e0c4dd",
   "metadata": {},
   "outputs": [],
   "source": [
    "#!pip3 install -r requirements.txt\n",
    "!pip3 install torchinfo numpy pandas nibabel torchio tqdm matplotlib SimpleITK scikit-learn"
   ]
  },
  {
   "cell_type": "code",
   "execution_count": null,
   "id": "e372e4c9-5b20-4bf0-b799-0eddf4dd2aa5",
   "metadata": {},
   "outputs": [],
   "source": [
    "#!unzip znorm_cropped_imgs.zip -d /storage"
   ]
  },
  {
   "cell_type": "markdown",
   "id": "c381e796-0da0-426a-a4f8-8988351c4408",
   "metadata": {},
   "source": [
    "### Model testing"
   ]
  },
  {
   "cell_type": "code",
   "execution_count": 2,
   "id": "c30d34a1-61cd-466a-b6e1-2e687056a07b",
   "metadata": {},
   "outputs": [
    {
     "data": {
      "text/plain": [
       "==========================================================================================\n",
       "Layer (type:depth-idx)                   Output Shape              Param #\n",
       "==========================================================================================\n",
       "UNet                                     --                        --\n",
       "├─ModuleList: 1-1                        --                        --\n",
       "├─ModuleList: 1-2                        --                        --\n",
       "├─ModuleList: 1-1                        --                        --\n",
       "│    └─Sequential: 2-1                   [2, 64, 40, 56, 72]       --\n",
       "│    │    └─Conv3d: 3-1                  [2, 32, 40, 56, 72]       896\n",
       "│    │    └─BatchNorm3d: 3-2             [2, 32, 40, 56, 72]       64\n",
       "│    │    └─ReLU: 3-3                    [2, 32, 40, 56, 72]       --\n",
       "│    │    └─Conv3d: 3-4                  [2, 64, 40, 56, 72]       55,360\n",
       "│    │    └─BatchNorm3d: 3-5             [2, 64, 40, 56, 72]       128\n",
       "│    │    └─ReLU: 3-6                    [2, 64, 40, 56, 72]       --\n",
       "├─MaxPool3d: 1-3                         [2, 64, 20, 28, 36]       --\n",
       "├─ModuleList: 1-1                        --                        --\n",
       "│    └─Sequential: 2-2                   [2, 128, 20, 28, 36]      --\n",
       "│    │    └─Conv3d: 3-7                  [2, 64, 20, 28, 36]       110,656\n",
       "│    │    └─BatchNorm3d: 3-8             [2, 64, 20, 28, 36]       128\n",
       "│    │    └─ReLU: 3-9                    [2, 64, 20, 28, 36]       --\n",
       "│    │    └─Conv3d: 3-10                 [2, 128, 20, 28, 36]      221,312\n",
       "│    │    └─BatchNorm3d: 3-11            [2, 128, 20, 28, 36]      256\n",
       "│    │    └─ReLU: 3-12                   [2, 128, 20, 28, 36]      --\n",
       "├─MaxPool3d: 1-4                         [2, 128, 10, 14, 18]      --\n",
       "├─ModuleList: 1-1                        --                        --\n",
       "│    └─Sequential: 2-3                   [2, 256, 10, 14, 18]      --\n",
       "│    │    └─Conv3d: 3-13                 [2, 128, 10, 14, 18]      442,496\n",
       "│    │    └─BatchNorm3d: 3-14            [2, 128, 10, 14, 18]      256\n",
       "│    │    └─ReLU: 3-15                   [2, 128, 10, 14, 18]      --\n",
       "│    │    └─Conv3d: 3-16                 [2, 256, 10, 14, 18]      884,992\n",
       "│    │    └─BatchNorm3d: 3-17            [2, 256, 10, 14, 18]      512\n",
       "│    │    └─ReLU: 3-18                   [2, 256, 10, 14, 18]      --\n",
       "├─MaxPool3d: 1-5                         [2, 256, 5, 7, 9]         --\n",
       "├─Sequential: 1-6                        [2, 512, 10, 14, 18]      --\n",
       "│    └─Conv3d: 2-4                       [2, 256, 5, 7, 9]         1,769,728\n",
       "│    └─BatchNorm3d: 2-5                  [2, 256, 5, 7, 9]         512\n",
       "│    └─ReLU: 2-6                         [2, 256, 5, 7, 9]         --\n",
       "│    └─Conv3d: 2-7                       [2, 512, 5, 7, 9]         3,539,456\n",
       "│    └─BatchNorm3d: 2-8                  [2, 512, 5, 7, 9]         1,024\n",
       "│    └─ReLU: 2-9                         [2, 512, 5, 7, 9]         --\n",
       "│    └─ConvTranspose3d: 2-10             [2, 512, 10, 14, 18]      2,097,664\n",
       "├─ModuleList: 1-2                        --                        --\n",
       "│    └─Sequential: 2-11                  [2, 256, 20, 28, 36]      --\n",
       "│    │    └─Conv3d: 3-19                 [2, 256, 10, 14, 18]      5,308,672\n",
       "│    │    └─BatchNorm3d: 3-20            [2, 256, 10, 14, 18]      512\n",
       "│    │    └─ReLU: 3-21                   [2, 256, 10, 14, 18]      --\n",
       "│    │    └─Conv3d: 3-22                 [2, 256, 10, 14, 18]      1,769,728\n",
       "│    │    └─BatchNorm3d: 3-23            [2, 256, 10, 14, 18]      512\n",
       "│    │    └─ReLU: 3-24                   [2, 256, 10, 14, 18]      --\n",
       "│    │    └─ConvTranspose3d: 3-25        [2, 256, 20, 28, 36]      524,544\n",
       "│    └─Sequential: 2-12                  [2, 128, 40, 56, 72]      --\n",
       "│    │    └─Conv3d: 3-26                 [2, 128, 20, 28, 36]      1,327,232\n",
       "│    │    └─BatchNorm3d: 3-27            [2, 128, 20, 28, 36]      256\n",
       "│    │    └─ReLU: 3-28                   [2, 128, 20, 28, 36]      --\n",
       "│    │    └─Conv3d: 3-29                 [2, 128, 20, 28, 36]      442,496\n",
       "│    │    └─BatchNorm3d: 3-30            [2, 128, 20, 28, 36]      256\n",
       "│    │    └─ReLU: 3-31                   [2, 128, 20, 28, 36]      --\n",
       "│    │    └─ConvTranspose3d: 3-32        [2, 128, 40, 56, 72]      131,200\n",
       "├─Sequential: 1-7                        [2, 1, 40, 56, 72]        --\n",
       "│    └─Conv3d: 2-13                      [2, 64, 40, 56, 72]       331,840\n",
       "│    └─BatchNorm3d: 2-14                 [2, 64, 40, 56, 72]       128\n",
       "│    └─ReLU: 2-15                        [2, 64, 40, 56, 72]       --\n",
       "│    └─Conv3d: 2-16                      [2, 64, 40, 56, 72]       110,656\n",
       "│    └─BatchNorm3d: 2-17                 [2, 64, 40, 56, 72]       128\n",
       "│    └─ReLU: 2-18                        [2, 64, 40, 56, 72]       --\n",
       "│    └─Conv3d: 2-19                      [2, 1, 40, 56, 72]        65\n",
       "==========================================================================================\n",
       "Total params: 19,073,665\n",
       "Trainable params: 19,073,665\n",
       "Non-trainable params: 0\n",
       "Total mult-adds (G): 365.39\n",
       "==========================================================================================\n",
       "Input size (MB): 1.29\n",
       "Forward/backward pass size (MB): 1961.16\n",
       "Params size (MB): 76.29\n",
       "Estimated Total Size (MB): 2038.75\n",
       "=========================================================================================="
      ]
     },
     "execution_count": 2,
     "metadata": {},
     "output_type": "execute_result"
    }
   ],
   "source": [
    "from models.unet3d import UNet\n",
    "from torchinfo import summary\n",
    "\n",
    "samp_unet = UNet(1)\n",
    "summary(samp_unet, (2,1,40,56,72))\n",
    "#summary(samp_unet, (1,1,196,196,196))"
   ]
  },
  {
   "cell_type": "markdown",
   "id": "741cf21f-5a32-4e2d-aca1-55bdbb9bd9a3",
   "metadata": {},
   "source": [
    "### Model Training"
   ]
  },
  {
   "cell_type": "code",
   "execution_count": null,
   "id": "39d64467-cbd7-4e97-a821-c48e979cc31f",
   "metadata": {},
   "outputs": [],
   "source": [
    "import torchio as tio\n",
    "\n",
    "from models.unet3d import UNet\n",
    "from model_utils.train import train_model, hocv_train_model\n",
    "from data_utils.dataset import get_train_test_subjects, split_train_subjects\n",
    "\n",
    "train_subj, test_subj = get_train_test_subjects(\n",
    "    '/storage/harp_metadata.csv',\n",
    "    '/storage/znorm_cropped_imgs',\n",
    "    42,\n",
    "    True\n",
    ")\n",
    "\n",
    "tr_train_subj, tr_val_subj = split_train_subjects('/storage/harp_metadata.csv', train_subj, 18, 42)\n",
    "\n",
    "firstUNet = UNet(1)\n",
    "# train_history = train_model(\n",
    "#     model=firstUNet,\n",
    "#     dir_name='/storage/znorm_cropped_imgs',\n",
    "#     brain_side='L',\n",
    "#     train_ids=train_subj,\n",
    "#     transforms=[tio.RandomNoise()],\n",
    "#     num_epochs=100,\n",
    "#     learning_rate=0.001\n",
    "# )\n",
    "train_val_hist = hocv_train_model(\n",
    "    model = firstUNet,\n",
    "    dir_name='/storage/znorm_cropped_imgs',\n",
    "    brain_side='L',\n",
    "    train_ids=tr_train_subj,\n",
    "    val_ids=tr_val_subj,\n",
    "    transforms=[tio.RandomNoise()],\n",
    "    num_epochs=100,\n",
    "    learning_rate=0.001\n",
    ")"
   ]
  },
  {
   "cell_type": "code",
   "execution_count": null,
   "id": "6c5980ce-1402-4365-9aeb-7e55ee6b636b",
   "metadata": {},
   "outputs": [],
   "source": [
    "import numpy as np\n",
    "\n",
    "np.savez('train_hist.npz', **train_history)"
   ]
  },
  {
   "cell_type": "code",
   "execution_count": 4,
   "id": "37932f24-4608-4cba-afd5-479216d32e27",
   "metadata": {},
   "outputs": [
    {
     "data": {
      "text/plain": [
       "array([13.8409085 ,  5.43673003,  3.06899568,  2.03014228,  1.57075645,\n",
       "        1.24456117,  1.08094809,  0.92620805,  0.84763405,  0.79567849,\n",
       "        0.73587816,  0.71609001,  0.64892002,  0.63526159,  0.59580059,\n",
       "        0.57528855,  0.56574512,  0.56601087,  0.53581604,  0.54342163,\n",
       "        0.52102622,  0.50980311,  0.512585  ,  0.49347595,  0.51221904,\n",
       "        0.49340566,  0.4920185 ,  0.48519877,  0.4533905 ,  0.48458783,\n",
       "        0.4825928 ,  0.46858303,  0.46954615,  0.45147895,  0.43158659,\n",
       "        0.42679915,  0.41532324,  0.42142766,  0.41049762,  0.40914644,\n",
       "        0.40962956,  0.39471823,  0.37918512,  0.38844658,  0.40158374,\n",
       "        0.38914997,  0.37942638,  0.37894833,  0.3706524 ,  0.35060388,\n",
       "        0.34333924,  0.32728564,  0.32884121,  0.32650637,  0.32755369,\n",
       "        0.32594852,  0.32277594,  0.31097212,  0.30200778,  0.30570154,\n",
       "        0.29961802,  0.2971015 ,  0.29586184,  0.30350623,  0.28886347,\n",
       "        0.28516584,  0.28287517,  0.2763304 ,  0.27406437,  0.28744863,\n",
       "        0.27736666,  0.26430316,  0.25133652,  0.24417953,  0.24730862,\n",
       "        0.24087464,  0.23539525,  0.23316219,  0.22604535,  0.21037358,\n",
       "        0.20419976,  0.20647898,  0.1875385 ,  0.17408434,  0.1715658 ,\n",
       "        0.17010318,  0.16037798,  0.16057481,  0.14779394,  0.14524016,\n",
       "        0.13234553,  0.12016897,  0.10382703,  0.10544   ,  0.10229996,\n",
       "        0.09561116,  0.09099788,  0.09796593,  0.09314461,  0.08667989])"
      ]
     },
     "execution_count": 4,
     "metadata": {},
     "output_type": "execute_result"
    }
   ],
   "source": [
    "train_hist = np.load('train_hist.npz')\n",
    "train_hist['loss_per_epoch']"
   ]
  },
  {
   "cell_type": "code",
   "execution_count": null,
   "id": "037b5ef5-05d7-4012-a231-6181032347da",
   "metadata": {},
   "outputs": [],
   "source": []
  }
 ],
 "metadata": {
  "kernelspec": {
   "display_name": "Python 3 (ipykernel)",
   "language": "python",
   "name": "python3"
  },
  "language_info": {
   "codemirror_mode": {
    "name": "ipython",
    "version": 3
   },
   "file_extension": ".py",
   "mimetype": "text/x-python",
   "name": "python",
   "nbconvert_exporter": "python",
   "pygments_lexer": "ipython3",
   "version": "3.9.7"
  }
 },
 "nbformat": 4,
 "nbformat_minor": 5
}
