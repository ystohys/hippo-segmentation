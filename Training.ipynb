{
 "cells": [
  {
   "cell_type": "markdown",
   "id": "40c4fd5d-7247-4a80-be96-eb326b713d9d",
   "metadata": {},
   "source": [
    "### Libraries setup"
   ]
  },
  {
   "cell_type": "code",
   "execution_count": null,
   "id": "9a1f95cb-5ea4-41c2-85de-6728e9e0c4dd",
   "metadata": {},
   "outputs": [],
   "source": [
    "#!pip3 install -r requirements.txt\n",
    "!pip3 install torchinfo numpy pandas nibabel torchio tqdm matplotlib SimpleITK scikit-learn"
   ]
  },
  {
   "cell_type": "code",
   "execution_count": null,
   "id": "e372e4c9-5b20-4bf0-b799-0eddf4dd2aa5",
   "metadata": {},
   "outputs": [],
   "source": [
    "#!unzip znorm_cropped_imgs.zip -d /storage"
   ]
  },
  {
   "cell_type": "markdown",
   "id": "c381e796-0da0-426a-a4f8-8988351c4408",
   "metadata": {},
   "source": [
    "### 3D U-Net testing"
   ]
  },
  {
   "cell_type": "code",
   "execution_count": null,
   "id": "c30d34a1-61cd-466a-b6e1-2e687056a07b",
   "metadata": {},
   "outputs": [],
   "source": [
    "from models.unet3d import UNet\n",
    "from torchinfo import summary\n",
    "\n",
    "samp_unet = UNet(1)\n",
    "summary(samp_unet, (2,1,40,56,72))\n",
    "#summary(samp_unet, (1,1,196,196,196))"
   ]
  },
  {
   "cell_type": "markdown",
   "id": "741cf21f-5a32-4e2d-aca1-55bdbb9bd9a3",
   "metadata": {},
   "source": [
    "### 3D U-Net Train + Test"
   ]
  },
  {
   "cell_type": "code",
   "execution_count": null,
   "id": "39d64467-cbd7-4e97-a821-c48e979cc31f",
   "metadata": {},
   "outputs": [],
   "source": [
    "import torchio as tio\n",
    "\n",
    "from models.unet3d import UNet\n",
    "from model_utils.train_eval import train_model, hocv_train_model, start_eval, save_model\n",
    "from data_utils.dataset import get_train_test_subjects, split_train_subjects\n",
    "\n",
    "train_subj, test_subj = get_train_test_subjects(\n",
    "    '/storage/harp_metadata.csv',\n",
    "    '/storage/znorm_cropped_imgs',\n",
    "    42,\n",
    "    True\n",
    ")\n",
    "\n",
    "firstUNet = UNet(1)\n",
    "train_history = train_model(\n",
    "    model=firstUNet,\n",
    "    dir_name='/storage/znorm_cropped_imgs',\n",
    "    brain_side='L',\n",
    "    train_ids=train_subj,\n",
    "    transforms=[tio.RandomNoise()],\n",
    "    batch_size=2,\n",
    "    num_epochs=100,\n",
    "    learning_rate=0.0001\n",
    ")\n",
    "\n",
    "test_loss, test_met = start_eval(firstUNet, '/storage/znorm_cropped_imgs', 'L', test_subj, 2, True)"
   ]
  },
  {
   "cell_type": "code",
   "execution_count": null,
   "id": "6c5980ce-1402-4365-9aeb-7e55ee6b636b",
   "metadata": {},
   "outputs": [],
   "source": [
    "import numpy as np\n",
    "import datetime\n",
    "\n",
    "np.savez('train_hist.npz', **train_history)\n",
    "save_model(firstUNet)"
   ]
  },
  {
   "cell_type": "markdown",
   "id": "63efca9e-f46a-4261-ab1d-e1063c366844",
   "metadata": {},
   "source": [
    "### 3D U-Net hold-out cross validation"
   ]
  },
  {
   "cell_type": "code",
   "execution_count": null,
   "id": "ac76ab80-349c-4ceb-85f6-7ac60a95b12b",
   "metadata": {},
   "outputs": [],
   "source": [
    "import torchio as tio\n",
    "\n",
    "from models.unet3d import UNet\n",
    "from model_utils.train_eval import train_model, hocv_train_model, start_eval, save_model\n",
    "from data_utils.dataset import get_train_test_subjects, split_train_subjects\n",
    "\n",
    "train_subj, test_subj = get_train_test_subjects(\n",
    "    '/storage/harp_metadata.csv',\n",
    "    '/storage/znorm_cropped_imgs',\n",
    "    42,\n",
    "    True\n",
    ")\n",
    "\n",
    "tr_train_subj, tr_val_subj = split_train_subjects('/storage/harp_metadata.csv', train_subj, 18, 42)\n",
    "\n",
    "secondUNet = UNet(1)\n",
    "train_val_hist = hocv_train_model(\n",
    "    model = secondUNet,\n",
    "    dir_name='/storage/znorm_cropped_imgs',\n",
    "    brain_side='L',\n",
    "    train_ids=tr_train_subj,\n",
    "    val_ids=tr_val_subj,\n",
    "    transforms=[tio.RandomNoise()],\n",
    "    batch_size=2,\n",
    "    num_epochs=200,\n",
    "    learning_rate=0.00001\n",
    ")\n",
    "\n",
    "test_loss, test_met = start_eval(secondUNet, '/storage/znorm_cropped_imgs', 'L', test_subj, 2, True)"
   ]
  },
  {
   "cell_type": "markdown",
   "id": "a56f0598-e690-424d-8ed2-88a1108673e4",
   "metadata": {},
   "source": [
    "### 3D U-Net 5-fold Cross Validation for Number of Epochs"
   ]
  },
  {
   "cell_type": "code",
   "execution_count": null,
   "id": "05ecd6b7-0159-4725-ab89-8c74f9dacc80",
   "metadata": {},
   "outputs": [],
   "source": [
    "import numpy as np\n",
    "import torchio as tio\n",
    "\n",
    "from models.unet3d import UNet\n",
    "from model_utils.train_eval import train_model, hocv_train_model, skfcv_train_model, start_eval, save_model\n",
    "from data_utils.dataset import get_train_test_subjects, split_train_subjects\n",
    "\n",
    "train_subj, test_subj = get_train_test_subjects(\n",
    "    '/storage/harp_metadata.csv',\n",
    "    '/storage/znorm_cropped_imgs',\n",
    "    42,\n",
    "    True\n",
    ")\n",
    "\n",
    "k_trainval_hist_50 = skfcv_train_model(\n",
    "    model_class = UNet,\n",
    "    dir_name='/storage/znorm_cropped_imgs',\n",
    "    brain_side='L',\n",
    "    meta_file='/storage/harp_metadata.csv',\n",
    "    train_ids=train_subj,\n",
    "    transforms=[\n",
    "        tio.RandomNoise(),\n",
    "        tio.OneOf({\n",
    "            tio.RandomAffine(scales=(0.9, 1.1), degrees=5): 0.5,\n",
    "            tio.RandomElasticDeformation(num_control_points=5, max_displacement=7.5, locked_borders=2): 0.5\n",
    "        })\n",
    "    ],\n",
    "    batch_size=2,\n",
    "    num_epochs=50,\n",
    "    learning_rate=0.01,\n",
    "    kfold=5,\n",
    "    random_seed=42\n",
    ")\n",
    "\n",
    "np.savez('k_trainval_hist_50.npz', **k_trainval_hist_50)"
   ]
  },
  {
   "cell_type": "code",
   "execution_count": null,
   "id": "d83907df-92a2-4202-a028-b89469f20a69",
   "metadata": {},
   "outputs": [],
   "source": [
    "k_trainval_hist_100 = skfcv_train_model(\n",
    "    model_class = UNet,\n",
    "    dir_name='/storage/znorm_cropped_imgs',\n",
    "    brain_side='L',\n",
    "    meta_file='/storage/harp_metadata.csv',\n",
    "    train_ids=train_subj,\n",
    "    transforms=[\n",
    "        tio.RandomNoise(),\n",
    "        tio.OneOf({\n",
    "            tio.RandomAffine(scales=(0.9, 1.1), degrees=5): 0.5,\n",
    "            tio.RandomElasticDeformation(num_control_points=5, max_displacement=7.5, locked_borders=2): 0.5\n",
    "        })\n",
    "    ],\n",
    "    batch_size=2,\n",
    "    num_epochs=100,\n",
    "    learning_rate=0.01,\n",
    "    kfold=5,\n",
    "    random_seed=42\n",
    ")\n",
    "\n",
    "np.savez('k_trainval_hist_100.npz', **k_trainval_hist_100)"
   ]
  },
  {
   "cell_type": "code",
   "execution_count": null,
   "id": "4c887d05-0ec8-4766-80e8-e2cff20e012e",
   "metadata": {},
   "outputs": [],
   "source": [
    "k_trainval_hist_150 = skfcv_train_model(\n",
    "    model_class = UNet,\n",
    "    dir_name='/storage/znorm_cropped_imgs',\n",
    "    brain_side='L',\n",
    "    meta_file='/storage/harp_metadata.csv',\n",
    "    train_ids=train_subj,\n",
    "    transforms=[\n",
    "        tio.RandomNoise(),\n",
    "        tio.OneOf({\n",
    "            tio.RandomAffine(scales=(0.9, 1.1), degrees=5): 0.5,\n",
    "            tio.RandomElasticDeformation(num_control_points=5, max_displacement=7.5, locked_borders=2): 0.5\n",
    "        })\n",
    "    ],\n",
    "    batch_size=2,\n",
    "    num_epochs=150,\n",
    "    learning_rate=0.01,\n",
    "    kfold=5,\n",
    "    random_seed=42\n",
    ")\n",
    "\n",
    "np.savez('k_trainval_hist_150.npz', **k_trainval_hist_150)"
   ]
  },
  {
   "cell_type": "code",
   "execution_count": null,
   "id": "c107f81b-a6f1-4df6-9fa6-caea9115ac87",
   "metadata": {},
   "outputs": [],
   "source": [
    "k_trainval_hist_200 = skfcv_train_model(\n",
    "    model_class = UNet,\n",
    "    dir_name='/storage/znorm_cropped_imgs',\n",
    "    brain_side='L',\n",
    "    meta_file='/storage/harp_metadata.csv',\n",
    "    train_ids=train_subj,\n",
    "    transforms=[\n",
    "        tio.RandomNoise(),\n",
    "        tio.OneOf({\n",
    "            tio.RandomAffine(scales=(0.9, 1.1), degrees=5): 0.5,\n",
    "            tio.RandomElasticDeformation(num_control_points=5, max_displacement=7.5, locked_borders=2): 0.5\n",
    "        })\n",
    "    ],\n",
    "    batch_size=2,\n",
    "    num_epochs=200,\n",
    "    learning_rate=0.01,\n",
    "    kfold=5,\n",
    "    random_seed=42\n",
    ")\n",
    "\n",
    "np.savez('k_trainval_hist_200.npz', **k_trainval_hist_200)"
   ]
  },
  {
   "cell_type": "code",
   "execution_count": 10,
   "id": "bcb3cb6e-493b-4ed1-af4e-e841ffb07b5a",
   "metadata": {},
   "outputs": [
    {
     "data": {
      "image/png": "[encoded data removed]",
      "text/plain": [
       "<Figure size 432x288 with 1 Axes>"
      ]
     },
     "metadata": {
      "needs_background": "light"
     },
     "output_type": "display_data"
    }
   ],
   "source": [
    "import numpy as np\n",
    "from model_utils.metrics import plot_val_per_epoch\n",
    "\n",
    "k_trainval_hist_100 = np.load('k_trainval_hist_100.npz')\n",
    "k_trainval_hist_100 = dict(k_trainval_hist_100)\n",
    "\n",
    "plot_val_per_epoch(k_trainval_hist_100,\n",
    "                   [('train_metric_per_epoch', 'train'), ('val_metric_per_epoch', 'val')],\n",
    "                  'Dice Score',\n",
    "                  'Dice score during training',\n",
    "                  (0.5, 1.0))"
   ]
  },
  {
   "cell_type": "markdown",
   "id": "572a0a98-4aca-4071-b586-eada8a659425",
   "metadata": {},
   "source": [
    "### 3D U-Net 5-fold Cross Validation for Batch Size"
   ]
  },
  {
   "cell_type": "code",
   "execution_count": null,
   "id": "6a3a54c7-e0e5-42bd-afb8-0894ac14ef56",
   "metadata": {},
   "outputs": [],
   "source": [
    "import numpy as np\n",
    "import torchio as tio\n",
    "\n",
    "from models.unet3d import UNet\n",
    "from model_utils.train_eval import train_model, hocv_train_model, skfcv_train_model, start_eval, save_model\n",
    "from data_utils.dataset import get_train_test_subjects, split_train_subjects\n",
    "\n",
    "train_subj, test_subj = get_train_test_subjects(\n",
    "    '/storage/harp_metadata.csv',\n",
    "    '/storage/znorm_cropped_imgs',\n",
    "    42,\n",
    "    True\n",
    ")\n",
    "\n",
    "k_trainval_hist_b2 = skfcv_train_model(\n",
    "    model_class = UNet,\n",
    "    dir_name='/storage/znorm_cropped_imgs',\n",
    "    brain_side='L',\n",
    "    meta_file='/storage/harp_metadata.csv',\n",
    "    train_ids=train_subj,\n",
    "    transforms=[\n",
    "        tio.RandomNoise(),\n",
    "        tio.OneOf({\n",
    "            tio.RandomAffine(scales=(0.9, 1.1), degrees=5): 0.5,\n",
    "            tio.RandomElasticDeformation(num_control_points=5, max_displacement=7.5, locked_borders=2): 0.5\n",
    "        })\n",
    "    ],\n",
    "    batch_size=2,\n",
    "    num_epochs=100,\n",
    "    learning_rate=0.01,\n",
    "    kfold=5,\n",
    "    random_seed=42\n",
    ")\n",
    "\n",
    "np.savez('k_trainval_hist_b2.npz', **k_trainval_hist_b2)"
   ]
  },
  {
   "cell_type": "code",
   "execution_count": null,
   "id": "c90b9d06-0914-46fe-b9e2-47c1b23ca74f",
   "metadata": {},
   "outputs": [],
   "source": [
    "k_trainval_hist_b4 = skfcv_train_model(\n",
    "    model_class = UNet,\n",
    "    dir_name='/storage/znorm_cropped_imgs',\n",
    "    brain_side='L',\n",
    "    meta_file='/storage/harp_metadata.csv',\n",
    "    train_ids=train_subj,\n",
    "    transforms=[\n",
    "        tio.RandomNoise(),\n",
    "        tio.OneOf({\n",
    "            tio.RandomAffine(scales=(0.9, 1.1), degrees=5): 0.5,\n",
    "            tio.RandomElasticDeformation(num_control_points=5, max_displacement=7.5, locked_borders=2): 0.5\n",
    "        })\n",
    "    ],\n",
    "    batch_size=4,\n",
    "    num_epochs=100,\n",
    "    learning_rate=0.01,\n",
    "    kfold=5,\n",
    "    random_seed=42\n",
    ")\n",
    "\n",
    "np.savez('k_trainval_hist_b2.npz', **k_trainval_hist_b2)"
   ]
  },
  {
   "cell_type": "code",
   "execution_count": null,
   "id": "d3ddfba3-5fe8-414d-9760-a6b02e12a867",
   "metadata": {},
   "outputs": [],
   "source": [
    "k_trainval_hist_b8 = skfcv_train_model(\n",
    "    model_class = UNet,\n",
    "    dir_name='/storage/znorm_cropped_imgs',\n",
    "    brain_side='L',\n",
    "    meta_file='/storage/harp_metadata.csv',\n",
    "    train_ids=train_subj,\n",
    "    transforms=[\n",
    "        tio.RandomNoise(),\n",
    "        tio.OneOf({\n",
    "            tio.RandomAffine(scales=(0.9, 1.1), degrees=5): 0.5,\n",
    "            tio.RandomElasticDeformation(num_control_points=5, max_displacement=7.5, locked_borders=2): 0.5\n",
    "        })\n",
    "    ],\n",
    "    batch_size=8,\n",
    "    num_epochs=100,\n",
    "    learning_rate=0.01,\n",
    "    kfold=5,\n",
    "    random_seed=42\n",
    ")\n",
    "\n",
    "np.savez('k_trainval_hist_b2.npz', **k_trainval_hist_b2)"
   ]
  },
  {
   "cell_type": "markdown",
   "id": "c18f7b0e-0338-44c3-9ed0-e6eac268bd28",
   "metadata": {},
   "source": [
    "### 2D U-Net Train"
   ]
  },
  {
   "cell_type": "code",
   "execution_count": null,
   "id": "96c5312f-e9ac-4dd1-b862-2eb33ddc7d88",
   "metadata": {},
   "outputs": [],
   "source": [
    "import torchio as tio\n",
    "\n",
    "from models.usegnet import SingleViewUSegNet\n",
    "from model_utils.train_eval import train_2d_model, hocv_train_model, start_eval, save_model\n",
    "from data_utils.dataset import get_train_test_subjects, split_train_subjects\n",
    "\n",
    "train_subj, test_subj = get_train_test_subjects(\n",
    "    '/storage/harp_metadata.csv',\n",
    "    '/storage/znorm_cropped_imgs',\n",
    "    42,\n",
    "    True\n",
    ")\n",
    "\n",
    "axial_net = SingleViewUSegNet()\n",
    "train_history = train_2d_model(\n",
    "    model=axial_net,\n",
    "    view=0,\n",
    "    dir_name='/storage/znorm_cropped_imgs',\n",
    "    brain_side='L',\n",
    "    train_ids=train_subj,\n",
    "    batch_size=2,\n",
    "    num_epochs=100,\n",
    "    learning_rate=0.01\n",
    ")\n",
    "\n",
    "test_loss, test_met = start_2d_eval(axial_net, '/storage/znorm_cropped_imgs', 'L', test_subj, 2, True)"
   ]
  },
  {
   "cell_type": "markdown",
   "id": "fea2ff5f-3dcf-4d49-9c3d-28d30071493e",
   "metadata": {},
   "source": [
    "### 2D U-Net Holdout Cross Validation"
   ]
  },
  {
   "cell_type": "code",
   "execution_count": null,
   "id": "e0550ea9-0bb3-44e4-90c4-5ee5c2dd6ffe",
   "metadata": {},
   "outputs": [],
   "source": [
    "import torchio as tio\n",
    "\n",
    "from models.usegnet import SingleViewUSegNet\n",
    "from model_utils.train_eval import train_2d_model, hocv_train_2d_model, start_2d_eval, save_model\n",
    "from data_utils.dataset import get_train_test_subjects, split_train_subjects\n",
    "\n",
    "train_subj, test_subj = get_train_test_subjects(\n",
    "    '/storage/harp_metadata.csv',\n",
    "    '/storage/znorm_cropped_imgs',\n",
    "    42,\n",
    "    True\n",
    ")\n",
    "\n",
    "tr_train_subj, tr_val_subj = split_train_subjects('/storage/harp_metadata.csv', train_subj, 18, 42)\n",
    "\n",
    "axial_net = SingleViewUSegNet()\n",
    "train_val_hist = hocv_train_2d_model(\n",
    "    model = axial_net,\n",
    "    view=0,\n",
    "    dir_name='/storage/znorm_cropped_imgs',\n",
    "    brain_side='L',\n",
    "    train_ids=tr_train_subj,\n",
    "    val_ids=tr_val_subj,\n",
    "    batch_size=2,\n",
    "    num_epochs=100,\n",
    "    learning_rate=0.01\n",
    ")\n",
    "\n",
    "test_loss, test_met = start_2d_eval(axial_net, 0, '/storage/znorm_cropped_imgs', 'L', test_subj, verbose=True)"
   ]
  },
  {
   "cell_type": "markdown",
   "id": "54e4abc4-310a-49b8-846b-bdbba6ce7e1d",
   "metadata": {},
   "source": [
    "### 2D U-Net 5-fold Cross Validation"
   ]
  },
  {
   "cell_type": "code",
   "execution_count": null,
   "id": "31119330-7fed-412f-ab43-d4acb924bc36",
   "metadata": {},
   "outputs": [],
   "source": []
  }
 ],
 "metadata": {
  "kernelspec": {
   "display_name": "Python 3 (ipykernel)",
   "language": "python",
   "name": "python3"
  },
  "language_info": {
   "codemirror_mode": {
    "name": "ipython",
    "version": 3
   },
   "file_extension": ".py",
   "mimetype": "text/x-python",
   "name": "python",
   "nbconvert_exporter": "python",
   "pygments_lexer": "ipython3",
   "version": "3.9.7"
  }
 },
 "nbformat": 4,
 "nbformat_minor": 5
}
