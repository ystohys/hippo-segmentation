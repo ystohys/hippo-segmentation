{
 "cells": [
  {
   "cell_type": "markdown",
   "id": "40c4fd5d-7247-4a80-be96-eb326b713d9d",
   "metadata": {},
   "source": [
    "### Libraries setup"
   ]
  },
  {
   "cell_type": "code",
   "execution_count": null,
   "id": "9a1f95cb-5ea4-41c2-85de-6728e9e0c4dd",
   "metadata": {},
   "outputs": [],
   "source": [
    "#!pip3 install -r requirements.txt\n",
    "!pip3 install torchinfo numpy pandas nibabel torchio tqdm matplotlib SimpleITK scikit-learn"
   ]
  },
  {
   "cell_type": "code",
   "execution_count": null,
   "id": "e372e4c9-5b20-4bf0-b799-0eddf4dd2aa5",
   "metadata": {},
   "outputs": [],
   "source": [
    "#!unzip znorm_cropped_imgs.zip -d /storage"
   ]
  },
  {
   "cell_type": "markdown",
   "id": "c381e796-0da0-426a-a4f8-8988351c4408",
   "metadata": {},
   "source": [
    "### Model testing"
   ]
  },
  {
   "cell_type": "code",
   "execution_count": null,
   "id": "c30d34a1-61cd-466a-b6e1-2e687056a07b",
   "metadata": {},
   "outputs": [],
   "source": [
    "from models.unet3d import UNet\n",
    "from torchinfo import summary\n",
    "\n",
    "samp_unet = UNet(1)\n",
    "summary(samp_unet, (2,1,40,56,72))\n",
    "#summary(samp_unet, (1,1,196,196,196))"
   ]
  },
  {
   "cell_type": "markdown",
   "id": "741cf21f-5a32-4e2d-aca1-55bdbb9bd9a3",
   "metadata": {},
   "source": [
    "### Train + Test"
   ]
  },
  {
   "cell_type": "code",
   "execution_count": null,
   "id": "39d64467-cbd7-4e97-a821-c48e979cc31f",
   "metadata": {},
   "outputs": [],
   "source": [
    "import torchio as tio\n",
    "\n",
    "from models.unet3d import UNet\n",
    "from model_utils.train_eval import train_model, hocv_train_model, start_eval, save_model\n",
    "from data_utils.dataset import get_train_test_subjects, split_train_subjects\n",
    "\n",
    "train_subj, test_subj = get_train_test_subjects(\n",
    "    '/storage/harp_metadata.csv',\n",
    "    '/storage/znorm_cropped_imgs',\n",
    "    42,\n",
    "    True\n",
    ")\n",
    "\n",
    "firstUNet = UNet(1)\n",
    "train_history = train_model(\n",
    "    model=firstUNet,\n",
    "    dir_name='/storage/znorm_cropped_imgs',\n",
    "    brain_side='L',\n",
    "    train_ids=train_subj,\n",
    "    transforms=[tio.RandomNoise()],\n",
    "    batch_size=2,\n",
    "    num_epochs=100,\n",
    "    learning_rate=0.0001\n",
    ")\n",
    "\n",
    "test_loss, test_met = start_eval(firstUNet, '/storage/znorm_cropped_imgs', 'L', test_subj, 2, True)"
   ]
  },
  {
   "cell_type": "code",
   "execution_count": null,
   "id": "6c5980ce-1402-4365-9aeb-7e55ee6b636b",
   "metadata": {},
   "outputs": [],
   "source": [
    "import numpy as np\n",
    "import datetime\n",
    "\n",
    "np.savez('train_hist.npz', **train_history)\n",
    "save_model(firstUNet)"
   ]
  },
  {
   "cell_type": "markdown",
   "id": "63efca9e-f46a-4261-ab1d-e1063c366844",
   "metadata": {},
   "source": [
    "### Hold-out cross validation"
   ]
  },
  {
   "cell_type": "code",
   "execution_count": null,
   "id": "ac76ab80-349c-4ceb-85f6-7ac60a95b12b",
   "metadata": {},
   "outputs": [],
   "source": [
    "import torchio as tio\n",
    "\n",
    "from models.unet3d import UNet\n",
    "from model_utils.train_eval import train_model, hocv_train_model, start_eval, save_model\n",
    "from data_utils.dataset import get_train_test_subjects, split_train_subjects\n",
    "\n",
    "train_subj, test_subj = get_train_test_subjects(\n",
    "    '/storage/harp_metadata.csv',\n",
    "    '/storage/znorm_cropped_imgs',\n",
    "    42,\n",
    "    True\n",
    ")\n",
    "\n",
    "tr_train_subj, tr_val_subj = split_train_subjects('/storage/harp_metadata.csv', train_subj, 18, 42)\n",
    "\n",
    "secondUNet = UNet(1)\n",
    "train_val_hist = hocv_train_model(\n",
    "    model = secondUNet,\n",
    "    dir_name='/storage/znorm_cropped_imgs',\n",
    "    brain_side='L',\n",
    "    train_ids=tr_train_subj,\n",
    "    val_ids=tr_val_subj,\n",
    "    transforms=[tio.RandomNoise()],\n",
    "    batch_size=2,\n",
    "    num_epochs=200,\n",
    "    learning_rate=0.00001\n",
    ")\n",
    "\n",
    "test_loss, test_met = start_eval(secondUNet, '/storage/znorm_cropped_imgs', 'L', test_subj, 2, True)"
   ]
  },
  {
   "cell_type": "markdown",
   "id": "a56f0598-e690-424d-8ed2-88a1108673e4",
   "metadata": {},
   "source": [
    "### 5-fold Cross Validation"
   ]
  },
  {
   "cell_type": "code",
   "execution_count": null,
   "id": "05ecd6b7-0159-4725-ab89-8c74f9dacc80",
   "metadata": {},
   "outputs": [],
   "source": [
    "import torchio as tio\n",
    "\n",
    "from models.unet3d import UNet\n",
    "from model_utils.train_eval import train_model, hocv_train_model, skfcv_train_model, start_eval, save_model\n",
    "from data_utils.dataset import get_train_test_subjects, split_train_subjects\n",
    "\n",
    "train_subj, test_subj = get_train_test_subjects(\n",
    "    '/storage/harp_metadata.csv',\n",
    "    '/storage/znorm_cropped_imgs',\n",
    "    42,\n",
    "    True\n",
    ")\n",
    "\n",
    "k_trainval_hist = skfcv_train_model(\n",
    "    model_class = UNet,\n",
    "    dir_name='/storage/znorm_cropped_imgs',\n",
    "    brain_side='L',\n",
    "    meta_file='/storage/harp_metadata.csv',\n",
    "    train_ids=train_subj,\n",
    "    transforms=[\n",
    "        tio.RandomNoise(),\n",
    "        tio.OneOf({\n",
    "            tio.RandomAffine(scales=(0.9, 1.1), degrees=5): 0.5,\n",
    "            tio.RandomElasticDeformations(num_control_points=5, max_displacement=7.5, locked_borders=2): 0.5\n",
    "        })\n",
    "    ],\n",
    "    batch_size=2,\n",
    "    num_epochs=200,\n",
    "    learning_rate=0.0001,\n",
    "    kfold=5,\n",
    "    random_seed=42\n",
    ")"
   ]
  },
  {
   "cell_type": "code",
   "execution_count": null,
   "id": "f8fcf496-f814-47d9-849c-0a90eb9fa5c2",
   "metadata": {},
   "outputs": [],
   "source": [
    "import numpy as np\n",
    "import datetime\n",
    "\n",
    "np.savez('train_val_hist2.npz', **train_val_hist)\n",
    "save_model(secondUNet)"
   ]
  },
  {
   "cell_type": "code",
   "execution_count": null,
   "id": "37932f24-4608-4cba-afd5-479216d32e27",
   "metadata": {},
   "outputs": [],
   "source": [
    "import numpy as np\n",
    "from model_utils.metrics import plot_per_epoch\n",
    "train_val_hist = np.load('train_val_hist500.npz')\n",
    "train_val_hist = dict(train_val_hist)\n",
    "\n",
    "plot_per_epoch(train_val_hist, [('train_metric_per_epoch', 'train'), ('val_metric_per_epoch', 'validation')], 'Dice', 'Dice score during training')"
   ]
  },
  {
   "cell_type": "code",
   "execution_count": null,
   "id": "d9c7ab7c-d3c7-45ee-b191-3afa7c67823d",
   "metadata": {},
   "outputs": [],
   "source": [
    "train_hist = np.load('train_hist.npz')\n",
    "train_hist = dict(train_hist)\n",
    "train_hist"
   ]
  },
  {
   "cell_type": "code",
   "execution_count": null,
   "id": "2a9d8a00-69a4-410e-89f9-c0c12639b2f9",
   "metadata": {},
   "outputs": [],
   "source": [
    "# from model_utils.train_eval import model_predict\n",
    "# from models.unet3d import UNet\n",
    "\n",
    "# trialmod = UNet(1)\n",
    "# model_predict(trialmod, 'znorm_cropped_imgs', '010_S_0067', 'l', model_file='saved_models/model_20062022_124835.pth')"
   ]
  },
  {
   "cell_type": "code",
   "execution_count": null,
   "id": "c50d1885-20fa-4eba-848f-07844aea3454",
   "metadata": {},
   "outputs": [],
   "source": []
  }
 ],
 "metadata": {
  "kernelspec": {
   "display_name": "Python 3 (ipykernel)",
   "language": "python",
   "name": "python3"
  },
  "language_info": {
   "codemirror_mode": {
    "name": "ipython",
    "version": 3
   },
   "file_extension": ".py",
   "mimetype": "text/x-python",
   "name": "python",
   "nbconvert_exporter": "python",
   "pygments_lexer": "ipython3",
   "version": "3.9.7"
  }
 },
 "nbformat": 4,
 "nbformat_minor": 5
}
