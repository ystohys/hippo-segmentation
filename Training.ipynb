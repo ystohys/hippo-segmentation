{
 "cells": [
  {
   "cell_type": "markdown",
   "id": "40c4fd5d-7247-4a80-be96-eb326b713d9d",
   "metadata": {},
   "source": [
    "### Libraries setup"
   ]
  },
  {
   "cell_type": "code",
   "execution_count": null,
   "id": "9a1f95cb-5ea4-41c2-85de-6728e9e0c4dd",
   "metadata": {},
   "outputs": [],
   "source": [
    "#!pip3 install -r requirements.txt\n",
    "!pip3 install torchinfo numpy pandas nibabel torchio tqdm matplotlib SimpleITK scikit-learn"
   ]
  },
  {
   "cell_type": "code",
   "execution_count": null,
   "id": "e372e4c9-5b20-4bf0-b799-0eddf4dd2aa5",
   "metadata": {},
   "outputs": [],
   "source": [
    "#!unzip znorm_cropped_imgs.zip -d /storage"
   ]
  },
  {
   "cell_type": "markdown",
   "id": "c381e796-0da0-426a-a4f8-8988351c4408",
   "metadata": {},
   "source": [
    "### 3D U-Net testing"
   ]
  },
  {
   "cell_type": "code",
   "execution_count": null,
   "id": "c30d34a1-61cd-466a-b6e1-2e687056a07b",
   "metadata": {},
   "outputs": [],
   "source": [
    "from models.unet3d import UNet\n",
    "from torchinfo import summary\n",
    "\n",
    "samp_unet = UNet(1)\n",
    "summary(samp_unet, (2,1,40,56,72))\n",
    "#summary(samp_unet, (1,1,196,196,196))"
   ]
  },
  {
   "cell_type": "markdown",
   "id": "ab50097f",
   "metadata": {},
   "source": [
    "### Learning rate range test\n",
    "As explained in this paper: https://arxiv.org/pdf/1506.01186.pdf"
   ]
  },
  {
   "cell_type": "code",
   "execution_count": null,
   "id": "8e4e7e19",
   "metadata": {},
   "outputs": [],
   "source": [
    "import torchio as tio\n",
    "from model_utils.train_eval import lr_range_plot, lr_range_test, lr_range_test_2d\n",
    "from models.unet3d import UNet\n",
    "from models.usegnet import SingleViewUSegNet\n",
    "from data_utils.dataset import get_train_test_subjects\n",
    "\n",
    "train_subj, test_subj = get_train_test_subjects(\n",
    "    '/storage/harp_metadata.csv',\n",
    "    '/storage/znorm_cropped_imgs',\n",
    "    42,\n",
    "    True\n",
    ")\n",
    "\n",
    "lr_test_unet = UNet(1)\n",
    "lr_test_hist = lr_range_test(\n",
    "    lr_test_unet,\n",
    "    '/storage/znorm_cropped_imgs',\n",
    "    'L',\n",
    "    train_subj,\n",
    "    transforms=[\n",
    "        tio.RandomNoise(),\n",
    "        tio.OneOf({\n",
    "            tio.RandomAffine(scales=(0.9, 1.1), degrees=5): 0.5,\n",
    "            tio.RandomElasticDeformation(num_control_points=5, max_displacement=7.5, locked_borders=2): 0.5\n",
    "        })\n",
    "    ],\n",
    "    batch_size=2,\n",
    "    end_lr=0.001,\n",
    "    num_epochs=1\n",
    ")"
   ]
  },
  {
   "cell_type": "code",
   "execution_count": null,
   "id": "9bd06b2d",
   "metadata": {},
   "outputs": [],
   "source": [
    "lr_test_2dunet = SingleViewUSegNet()\n",
    "lr_test_hist_2d = lr_range_test_2d(\n",
    "    lr_test_2dunet,\n",
    "    0,\n",
    "    '/storage/znorm_cropped_imgs',\n",
    "    'L',\n",
    "    train_subj,\n",
    "    batch_size=2,\n",
    "    end_lr=0.01,\n",
    "    num_epochs=1\n",
    ")"
   ]
  },
  {
   "cell_type": "code",
   "execution_count": null,
   "id": "d1700a46",
   "metadata": {},
   "outputs": [],
   "source": [
    "lr_range_plot(lr_test_hist, 'metric')"
   ]
  },
  {
   "cell_type": "code",
   "execution_count": null,
   "id": "3980dbc6",
   "metadata": {},
   "outputs": [],
   "source": [
    "lr_range_plot(lr_test_hist_2d, 'metric')"
   ]
  },
  {
   "cell_type": "markdown",
   "id": "741cf21f-5a32-4e2d-aca1-55bdbb9bd9a3",
   "metadata": {},
   "source": [
    "### 3D U-Net Train + Test"
   ]
  },
  {
   "cell_type": "code",
   "execution_count": null,
   "id": "39d64467-cbd7-4e97-a821-c48e979cc31f",
   "metadata": {},
   "outputs": [],
   "source": [
    "import torchio as tio\n",
    "import torch\n",
    "from models.unet3d import UNet\n",
    "from model_utils.train_eval import train_model, hocv_train_model, start_eval, save_model\n",
    "from data_utils.dataset import get_train_test_subjects, split_train_subjects\n",
    "\n",
    "train_subj, test_subj = get_train_test_subjects(\n",
    "    '/storage/harp_metadata.csv',\n",
    "    '/storage/znorm_cropped_imgs',\n",
    "    42,\n",
    "    True\n",
    ")\n",
    "\n",
    "finalUNet = UNet(1)\n",
    "finalUNet.load_state_dict(torch.load('final_3D_L.pth'))\n",
    "finalUNet.to('cuda')\n",
    "# train_history = train_model(\n",
    "#     model=finalUNet,\n",
    "#     dir_name='/storage/znorm_cropped_imgs',\n",
    "#     brain_side='L',\n",
    "#     train_ids=train_subj,\n",
    "#     transforms=[\n",
    "#         tio.RandomNoise(),\n",
    "#         tio.OneOf({\n",
    "#             tio.RandomAffine(scales=(0.9, 1.1), degrees=5): 0.5,\n",
    "#             tio.RandomElasticDeformation(num_control_points=5, max_displacement=7.5, locked_borders=2): 0.5\n",
    "#         })\n",
    "#     ],\n",
    "#     batch_size=2,\n",
    "#     num_epochs=100,\n",
    "#     max_learn_rate=0.005\n",
    "# )\n",
    "\n",
    "test_loss, test_met, _, _ = start_eval(finalUNet, '/storage/znorm_cropped_imgs', 'L', test_subj, 1, True)"
   ]
  },
  {
   "cell_type": "code",
   "execution_count": null,
   "id": "6c5980ce-1402-4365-9aeb-7e55ee6b636b",
   "metadata": {},
   "outputs": [],
   "source": [
    "import numpy as np\n",
    "\n",
    "np.savez('final_3D_L_trainhist.npz', **train_history)\n",
    "save_model(finalUNet, save_path='final_3D_L.pth')"
   ]
  },
  {
   "cell_type": "markdown",
   "id": "63efca9e-f46a-4261-ab1d-e1063c366844",
   "metadata": {},
   "source": [
    "### 3D U-Net hold-out cross validation"
   ]
  },
  {
   "cell_type": "code",
   "execution_count": null,
   "id": "ac76ab80-349c-4ceb-85f6-7ac60a95b12b",
   "metadata": {},
   "outputs": [],
   "source": [
    "import torchio as tio\n",
    "\n",
    "from models.unet3d import UNet\n",
    "from model_utils.train_eval import train_model, hocv_train_model, start_eval, save_model\n",
    "from data_utils.dataset import get_train_test_subjects, split_train_subjects\n",
    "\n",
    "train_subj, test_subj = get_train_test_subjects(\n",
    "    '/storage/harp_metadata.csv',\n",
    "    '/storage/znorm_cropped_imgs',\n",
    "    42,\n",
    "    True\n",
    ")\n",
    "\n",
    "tr_train_subj, tr_val_subj = split_train_subjects('/storage/harp_metadata.csv', train_subj, 18, 42)\n",
    "\n",
    "secondUNet = UNet(1)\n",
    "train_val_hist = hocv_train_model(\n",
    "    model = secondUNet,\n",
    "    dir_name='/storage/znorm_cropped_imgs',\n",
    "    brain_side='L',\n",
    "    train_ids=tr_train_subj,\n",
    "    val_ids=tr_val_subj,\n",
    "    transforms=[tio.RandomNoise()],\n",
    "    batch_size=2,\n",
    "    num_epochs=200,\n",
    "    max_learn_rate=0.006\n",
    ")\n",
    "\n",
    "test_loss, test_met = start_eval(secondUNet, '/storage/znorm_cropped_imgs', 'L', test_subj, 2, True)"
   ]
  },
  {
   "cell_type": "markdown",
   "id": "a56f0598-e690-424d-8ed2-88a1108673e4",
   "metadata": {},
   "source": [
    "### 3D U-Net 5-fold Cross Validation (GRID)"
   ]
  },
  {
   "cell_type": "code",
   "execution_count": null,
   "id": "05ecd6b7-0159-4725-ab89-8c74f9dacc80",
   "metadata": {},
   "outputs": [],
   "source": [
    "import numpy as np\n",
    "import torchio as tio\n",
    "\n",
    "from models.unet3d import UNet\n",
    "from model_utils.train_eval import train_model, hocv_train_model, skfcv_train_model, start_eval, save_model\n",
    "from data_utils.dataset import get_train_test_subjects, split_train_subjects\n",
    "\n",
    "train_subj, test_subj = get_train_test_subjects(\n",
    "    '/storage/harp_metadata.csv',\n",
    "    '/storage/znorm_cropped_imgs',\n",
    "    42,\n",
    "    True\n",
    ")\n",
    "\n",
    "trainval_hist_3d_L_b2_e50 = skfcv_train_model(\n",
    "    model_class = UNet,\n",
    "    dir_name='/storage/znorm_cropped_imgs',\n",
    "    brain_side='L',\n",
    "    meta_file='/storage/harp_metadata.csv',\n",
    "    train_ids=train_subj,\n",
    "    transforms=[\n",
    "        tio.RandomNoise(),\n",
    "        tio.OneOf({\n",
    "            tio.RandomAffine(scales=(0.9, 1.1), degrees=5): 0.5,\n",
    "            tio.RandomElasticDeformation(num_control_points=5, max_displacement=7.5, locked_borders=2): 0.5\n",
    "        })\n",
    "    ],\n",
    "    batch_size=2,\n",
    "    num_epochs=50,\n",
    "    max_learn_rate=0.005,\n",
    "    kfold=5,\n",
    "    random_seed=41\n",
    ")\n",
    "\n",
    "np.savez('trainval_hist_3d_L_b2_e50.npz', **trainval_hist_3d_L_b2_e50)"
   ]
  },
  {
   "cell_type": "code",
   "execution_count": null,
   "id": "c612d2c0",
   "metadata": {},
   "outputs": [],
   "source": [
    "trainval_hist_3d_R_b2_e50 = skfcv_train_model(\n",
    "    model_class = UNet,\n",
    "    dir_name='/storage/znorm_cropped_imgs',\n",
    "    brain_side='R',\n",
    "    meta_file='/storage/harp_metadata.csv',\n",
    "    train_ids=train_subj,\n",
    "    transforms=[\n",
    "        tio.RandomNoise(),\n",
    "        tio.OneOf({\n",
    "            tio.RandomAffine(scales=(0.9, 1.1), degrees=5): 0.5,\n",
    "            tio.RandomElasticDeformation(num_control_points=5, max_displacement=7.5, locked_borders=2): 0.5\n",
    "        })\n",
    "    ],\n",
    "    batch_size=2,\n",
    "    num_epochs=50,\n",
    "    max_learn_rate=0.005,\n",
    "    kfold=5,\n",
    "    random_seed=41\n",
    ")\n",
    "\n",
    "np.savez('trainval_hist_3d_R_b2_e50.npz', **trainval_hist_3d_R_b2_e50)"
   ]
  },
  {
   "cell_type": "code",
   "execution_count": 8,
   "id": "bcb3cb6e-493b-4ed1-af4e-e841ffb07b5a",
   "metadata": {},
   "outputs": [
    {
     "data": {
      "image/png": "[encoded data removed]",
      "text/plain": [
       "<Figure size 432x288 with 1 Axes>"
      ]
     },
     "metadata": {
      "needs_background": "light"
     },
     "output_type": "display_data"
    }
   ],
   "source": [
    "import numpy as np\n",
    "from model_utils.metrics import plot_val_per_epoch\n",
    "\n",
    "trainval_hist = np.load('saved_histories/3D_R/trainval_hist_3d_R_b2_e200.npz')\n",
    "trainval_hist = dict(trainval_hist)\n",
    "\n",
    "plot_val_per_epoch(trainval_hist,\n",
    "                   [('train_loss_per_epoch', 'train'), ('val_loss_per_epoch', 'val')],\n",
    "                  'Dice Score',\n",
    "                  'Dice score during training',\n",
    "                  (0.0, 0.04))"
   ]
  },
  {
   "cell_type": "markdown",
   "id": "c18f7b0e-0338-44c3-9ed0-e6eac268bd28",
   "metadata": {},
   "source": [
    "### 2D U-Net Train + Test"
   ]
  },
  {
   "cell_type": "code",
   "execution_count": null,
   "id": "96c5312f-e9ac-4dd1-b862-2eb33ddc7d88",
   "metadata": {},
   "outputs": [],
   "source": [
    "import torchio as tio\n",
    "import torch\n",
    "from models.usegnet import SingleViewUSegNet\n",
    "from model_utils.train_eval import train_2d_model, hocv_train_model, start_2d_eval, save_model, start_ensemble_eval\n",
    "from data_utils.dataset import get_train_test_subjects, split_train_subjects\n",
    "\n",
    "train_subj, test_subj = get_train_test_subjects(\n",
    "    '/storage/harp_metadata.csv',\n",
    "    '/storage/znorm_cropped_imgs',\n",
    "    42,\n",
    "    True\n",
    ")\n",
    "\n",
    "sag_net = SingleViewUSegNet()\n",
    "coro_net = SingleViewUSegNet()\n",
    "axial_net = SingleViewUSegNet()\n",
    "# Run these to skip training and load a pre-trained model\n",
    "sag_net.load_state_dict(torch.load('final_2D_L0.pth'))\n",
    "coro_net.load_state_dict(torch.load('final_2D_L1.pth'))\n",
    "axial_net.load_state_dict(torch.load('final_2D_L2.pth'))\n",
    "sag_net.to('cuda')\n",
    "coro_net.to('cuda')\n",
    "axial_net.to('cuda')\n",
    "# sag_train_history = train_2d_model(\n",
    "#     model=sag_net,\n",
    "#     view=0,\n",
    "#     dir_name='/storage/znorm_cropped_imgs',\n",
    "#     brain_side='L',\n",
    "#     train_ids=train_subj,\n",
    "#     batch_size=4,\n",
    "#     num_epochs=20,\n",
    "#     max_learn_rate=0.009\n",
    "# )\n",
    "# coro_train_history = train_2d_model(\n",
    "#     model=coro_net,\n",
    "#     view=1,\n",
    "#     dir_name='/storage/znorm_cropped_imgs',\n",
    "#     brain_side='L',\n",
    "#     train_ids=train_subj,\n",
    "#     batch_size=2,\n",
    "#     num_epochs=18,\n",
    "#     max_learn_rate=0.008\n",
    "# )\n",
    "\n",
    "# axial_train_history = train_2d_model(\n",
    "#     model=axial_net,\n",
    "#     view=2,\n",
    "#     dir_name='/storage/znorm_cropped_imgs',\n",
    "#     brain_side='L',\n",
    "#     train_ids=train_subj,\n",
    "#     batch_size=4,\n",
    "#     num_epochs=22,\n",
    "#     max_learn_rate=0.0085\n",
    "# )\n",
    "\n",
    "test_loss, test_met, test_precision, test_recall = start_2d_eval(sag_net, 0, '/storage/znorm_cropped_imgs', 'L', test_subj, 1, True)\n",
    "test_loss, test_met, test_precision, test_recall = start_2d_eval(coro_net, 1, '/storage/znorm_cropped_imgs', 'L', test_subj, 1, True)\n",
    "test_loss, test_met, test_precision, test_recall = start_2d_eval(axial_net, 2, '/storage/znorm_cropped_imgs', 'L', test_subj, 1, True)\n"
   ]
  },
  {
   "cell_type": "code",
   "execution_count": null,
   "id": "a7bdeb1f",
   "metadata": {},
   "outputs": [],
   "source": [
    "import numpy as np\n",
    "\n",
    "np.savez('final_2D_L0_trainhist.npz', **train_history)\n",
    "save_model(sag_net, save_path='final_2D_L0.pth')"
   ]
  },
  {
   "cell_type": "code",
   "execution_count": null,
   "id": "2686b242",
   "metadata": {},
   "outputs": [],
   "source": [
    "import torch\n",
    "from models.usegnet import SingleViewUSegNet\n",
    "from model_utils.train_eval import start_ensemble_eval\n",
    "from data_utils.dataset import get_train_test_subjects, split_train_subjects\n",
    "\n",
    "train_subj, test_subj = get_train_test_subjects(\n",
    "    '/storage/harp_metadata.csv',\n",
    "    '/storage/znorm_cropped_imgs',\n",
    "    42,\n",
    "    True\n",
    ")\n",
    "\n",
    "\n",
    "sag_net = SingleViewUSegNet()\n",
    "coro_net = SingleViewUSegNet()\n",
    "axial_net = SingleViewUSegNet()\n",
    "\n",
    "sag_net.load_state_dict(torch.load('final_2D_L0.pth'))\n",
    "coro_net.load_state_dict(torch.load('final_2D_L1.pth'))\n",
    "axial_net.load_state_dict(torch.load('final_2D_L2.pth'))\n",
    "sag_net.to('cuda')\n",
    "coro_net.to('cuda')\n",
    "axial_net.to('cuda')\n",
    "\n",
    "\n",
    "mean_dice, mean_precision, mean_recall = start_ensemble_eval(\n",
    "    model1=sag_net,\n",
    "    model2=coro_net,\n",
    "    model3=axial_net,\n",
    "    dir_name='/storage/znorm_cropped_imgs',\n",
    "    brain_side='L',\n",
    "    test_ids=test_subj,\n",
    "    batch_size=1,\n",
    "    verbose=True\n",
    ")"
   ]
  },
  {
   "cell_type": "markdown",
   "id": "fea2ff5f-3dcf-4d49-9c3d-28d30071493e",
   "metadata": {},
   "source": [
    "### 2D U-Net Holdout Cross Validation"
   ]
  },
  {
   "cell_type": "code",
   "execution_count": null,
   "id": "e0550ea9-0bb3-44e4-90c4-5ee5c2dd6ffe",
   "metadata": {},
   "outputs": [],
   "source": [
    "import torchio as tio\n",
    "\n",
    "from models.usegnet import SingleViewUSegNet\n",
    "from model_utils.train_eval import train_2d_model, hocv_train_2d_model, start_2d_eval, save_model\n",
    "from data_utils.dataset import get_train_test_subjects, split_train_subjects\n",
    "\n",
    "train_subj, test_subj = get_train_test_subjects(\n",
    "    '/storage/harp_metadata.csv',\n",
    "    '/storage/znorm_cropped_imgs',\n",
    "    42,\n",
    "    True\n",
    ")\n",
    "\n",
    "tr_train_subj, tr_val_subj = split_train_subjects('/storage/harp_metadata.csv', train_subj, 18, 42)\n",
    "\n",
    "axial_net = SingleViewUSegNet()\n",
    "train_val_hist = hocv_train_2d_model(\n",
    "    model = axial_net,\n",
    "    view=0,\n",
    "    dir_name='/storage/znorm_cropped_imgs',\n",
    "    brain_side='L',\n",
    "    train_ids=tr_train_subj,\n",
    "    val_ids=tr_val_subj,\n",
    "    batch_size=2,\n",
    "    num_epochs=100,\n",
    "    max_learn_rate=0.009\n",
    ")\n",
    "\n",
    "test_loss, test_met = start_2d_eval(axial_net, 0, '/storage/znorm_cropped_imgs', 'L', test_subj, verbose=True)"
   ]
  },
  {
   "cell_type": "markdown",
   "id": "54e4abc4-310a-49b8-846b-bdbba6ce7e1d",
   "metadata": {},
   "source": [
    "### 2D U-Net 5-fold Cross Validation"
   ]
  },
  {
   "cell_type": "code",
   "execution_count": null,
   "id": "a5eee362-9210-4782-8178-c4ad0c06f744",
   "metadata": {},
   "outputs": [],
   "source": [
    "import numpy as np\n",
    "import torchio as tio\n",
    "\n",
    "from models.usegnet import SingleViewUSegNet\n",
    "from model_utils.train_eval import train_2d_model, hocv_train_2d_model, skfcv_train_2d_model, start_2d_eval, save_model\n",
    "from data_utils.dataset import get_train_test_subjects, split_train_subjects\n",
    "\n",
    "train_subj, test_subj = get_train_test_subjects(\n",
    "    '/storage/harp_metadata.csv',\n",
    "    '/storage/znorm_cropped_imgs',\n",
    "    42,\n",
    "    True\n",
    ")\n",
    "\n",
    "trainval_hist_2d_L0_b2_e50 = skfcv_train_2d_model(\n",
    "    model_class = SingleViewUSegNet,\n",
    "    view=0,\n",
    "    dir_name='/storage/znorm_cropped_imgs',\n",
    "    brain_side='L',\n",
    "    meta_file='/storage/harp_metadata.csv',\n",
    "    train_ids=train_subj,\n",
    "    batch_size=2,\n",
    "    num_epochs=50,\n",
    "    max_learn_rate=0.009,\n",
    "    kfold=5,\n",
    "    random_seed=41\n",
    ")\n",
    "\n",
    "np.savez('trainval_hist_2d_L0_b2_e50.npz', **trainval_hist_2d_L0_b2_e50)"
   ]
  },
  {
   "cell_type": "code",
   "execution_count": null,
   "id": "f7d030b1-2921-4d8e-b16b-96e27e295bc0",
   "metadata": {},
   "outputs": [],
   "source": [
    "import numpy as np\n",
    "from model_utils.metrics import plot_val_per_epoch\n",
    "\n",
    "model_type='2d'\n",
    "brain_side='L0'\n",
    "batch_size=4\n",
    "num_epoch=100\n",
    "\n",
    "trainval_hist = np.load('saved_histories/{0}_{2}/trainval_hist_{1}_{2}_b{3}_e{4}.npz'.format(model_type.upper(), \n",
    "                                                                                     model_type,\n",
    "                                                                                     brain_side,\n",
    "                                                                                     batch_size,\n",
    "                                                                                     num_epoch\n",
    "                                                                                    ))\n",
    "trainval_hist = dict(trainval_hist)\n",
    "\n",
    "plot_val_per_epoch(trainval_hist,\n",
    "                   [('train_loss_per_epoch', 'train'), ('val_loss_per_epoch', 'val')],\n",
    "                  'BCE Loss',\n",
    "                  'Loss during training (Batch size = {0})'.format(batch_size),\n",
    "                  (0.0, 1))"
   ]
  }
 ],
 "metadata": {
  "kernelspec": {
   "display_name": "Python 3 (ipykernel)",
   "language": "python",
   "name": "python3"
  },
  "language_info": {
   "codemirror_mode": {
    "name": "ipython",
    "version": 3
   },
   "file_extension": ".py",
   "mimetype": "text/x-python",
   "name": "python",
   "nbconvert_exporter": "python",
   "pygments_lexer": "ipython3",
   "version": "3.9.10"
  },
  "vscode": {
   "interpreter": {
    "hash": "aee8b7b246df8f9039afb4144a1f6fd8d2ca17a180786b69acc140d282b71a49"
   }
  }
 },
 "nbformat": 4,
 "nbformat_minor": 5
}
