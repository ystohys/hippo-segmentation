{
 "cells": [
  {
   "cell_type": "markdown",
   "id": "f6a7f546-1960-4d33-864f-8950c2600fee",
   "metadata": {},
   "source": [
    "# 3D U-Net \n",
    "This Jupyter notebook contains the following processes about 3D U-Net:\n",
    "\n",
    "* Number of parameters (Model complexity)\n",
    "* Hyperparameter Tuning \n",
    "* Training and Test Evaluation"
   ]
  },
  {
   "cell_type": "code",
   "execution_count": 2,
   "id": "1fead510-7045-4829-b1b3-05cac7acd789",
   "metadata": {
    "tags": []
   },
   "outputs": [],
   "source": [
    "# Import necessary libraries\n",
    "import numpy as np\n",
    "import torchio as tio\n",
    "from torchinfo import summary\n",
    "\n",
    "# Custom modules containing my implementation of the models with PyTorch and also some helper functions\n",
    "from models.unet3d import UNet\n",
    "from model_utils.train_eval import *\n",
    "from data_utils.dataset import *\n",
    "from model_utils.metrics import plot_val_per_epoch, get_train_time"
   ]
  },
  {
   "cell_type": "code",
   "execution_count": 2,
   "id": "3e380af4-e25c-42e3-9dc5-828d1efac36b",
   "metadata": {
    "execution": {
     "iopub.execute_input": "2022-09-22T08:43:06.789777Z",
     "iopub.status.busy": "2022-09-22T08:43:06.789151Z",
     "iopub.status.idle": "2022-09-22T08:43:10.461116Z",
     "shell.execute_reply": "2022-09-22T08:43:10.460573Z",
     "shell.execute_reply.started": "2022-09-22T08:43:06.789755Z"
    }
   },
   "outputs": [
    {
     "data": {
      "text/plain": [
       "==========================================================================================\n",
       "Layer (type:depth-idx)                   Output Shape              Param #\n",
       "==========================================================================================\n",
       "UNet                                     [2, 1, 40, 56, 72]        --\n",
       "├─ModuleList: 1-1                        --                        1,660,608\n",
       "│    └─Sequential: 2-1                   [2, 64, 40, 56, 72]       --\n",
       "│    │    └─Conv3d: 3-1                  [2, 32, 40, 56, 72]       896\n",
       "│    │    └─BatchNorm3d: 3-2             [2, 32, 40, 56, 72]       64\n",
       "│    │    └─ReLU: 3-3                    [2, 32, 40, 56, 72]       --\n",
       "│    │    └─Conv3d: 3-4                  [2, 64, 40, 56, 72]       55,360\n",
       "│    │    └─BatchNorm3d: 3-5             [2, 64, 40, 56, 72]       128\n",
       "│    │    └─ReLU: 3-6                    [2, 64, 40, 56, 72]       --\n",
       "├─MaxPool3d: 1-2                         [2, 64, 20, 28, 36]       --\n",
       "├─ModuleList: 1-1                        --                        1,660,608\n",
       "│    └─Sequential: 2-2                   [2, 128, 20, 28, 36]      --\n",
       "│    │    └─Conv3d: 3-7                  [2, 64, 20, 28, 36]       110,656\n",
       "│    │    └─BatchNorm3d: 3-8             [2, 64, 20, 28, 36]       128\n",
       "│    │    └─ReLU: 3-9                    [2, 64, 20, 28, 36]       --\n",
       "│    │    └─Conv3d: 3-10                 [2, 128, 20, 28, 36]      221,312\n",
       "│    │    └─BatchNorm3d: 3-11            [2, 128, 20, 28, 36]      256\n",
       "│    │    └─ReLU: 3-12                   [2, 128, 20, 28, 36]      --\n",
       "├─MaxPool3d: 1-3                         [2, 128, 10, 14, 18]      --\n",
       "├─ModuleList: 1-1                        --                        1,660,608\n",
       "│    └─Sequential: 2-3                   [2, 256, 10, 14, 18]      --\n",
       "│    │    └─Conv3d: 3-13                 [2, 128, 10, 14, 18]      442,496\n",
       "│    │    └─BatchNorm3d: 3-14            [2, 128, 10, 14, 18]      256\n",
       "│    │    └─ReLU: 3-15                   [2, 128, 10, 14, 18]      --\n",
       "│    │    └─Conv3d: 3-16                 [2, 256, 10, 14, 18]      884,992\n",
       "│    │    └─BatchNorm3d: 3-17            [2, 256, 10, 14, 18]      512\n",
       "│    │    └─ReLU: 3-18                   [2, 256, 10, 14, 18]      --\n",
       "├─MaxPool3d: 1-4                         [2, 256, 5, 7, 9]         --\n",
       "├─Sequential: 1-5                        [2, 512, 10, 14, 18]      5,638,144\n",
       "│    └─Conv3d: 2-4                       [2, 256, 5, 7, 9]         1,769,728\n",
       "│    └─BatchNorm3d: 2-5                  [2, 256, 5, 7, 9]         512\n",
       "├─ModuleList: 1-6                        --                        --\n",
       "├─Sequential: 1                          --                        --\n",
       "│    └─ReLU: 2-6                         [2, 256, 5, 7, 9]         --\n",
       "│    └─Conv3d: 2-7                       [2, 512, 5, 7, 9]         3,539,456\n",
       "│    └─BatchNorm3d: 2-8                  [2, 512, 5, 7, 9]         1,024\n",
       "│    └─ReLU: 2-9                         [2, 512, 5, 7, 9]         --\n",
       "│    └─ConvTranspose3d: 2-10             [2, 512, 10, 14, 18]      2,097,664\n",
       "├─ModuleList: 1-6                        --                        --\n",
       "│    └─Sequential: 2-11                  [2, 256, 20, 28, 36]      --\n",
       "│    │    └─Conv3d: 3-19                 [2, 256, 10, 14, 18]      5,308,672\n",
       "│    │    └─BatchNorm3d: 3-20            [2, 256, 10, 14, 18]      512\n",
       "│    │    └─ReLU: 3-21                   [2, 256, 10, 14, 18]      --\n",
       "│    │    └─Conv3d: 3-22                 [2, 256, 10, 14, 18]      1,769,728\n",
       "│    │    └─BatchNorm3d: 3-23            [2, 256, 10, 14, 18]      512\n",
       "│    │    └─ReLU: 3-24                   [2, 256, 10, 14, 18]      --\n",
       "│    │    └─ConvTranspose3d: 3-25        [2, 256, 20, 28, 36]      524,544\n",
       "│    └─Sequential: 2-12                  [2, 128, 40, 56, 72]      --\n",
       "│    │    └─Conv3d: 3-26                 [2, 128, 20, 28, 36]      1,327,232\n",
       "│    │    └─BatchNorm3d: 3-27            [2, 128, 20, 28, 36]      256\n",
       "│    │    └─ReLU: 3-28                   [2, 128, 20, 28, 36]      --\n",
       "│    │    └─Conv3d: 3-29                 [2, 128, 20, 28, 36]      442,496\n",
       "│    │    └─BatchNorm3d: 3-30            [2, 128, 20, 28, 36]      256\n",
       "│    │    └─ReLU: 3-31                   [2, 128, 20, 28, 36]      --\n",
       "│    │    └─ConvTranspose3d: 3-32        [2, 128, 40, 56, 72]      131,200\n",
       "├─Sequential: 1-7                        [2, 1, 40, 56, 72]        --\n",
       "│    └─Conv3d: 2-13                      [2, 64, 40, 56, 72]       331,840\n",
       "│    └─BatchNorm3d: 2-14                 [2, 64, 40, 56, 72]       128\n",
       "│    └─ReLU: 2-15                        [2, 64, 40, 56, 72]       --\n",
       "│    └─Conv3d: 2-16                      [2, 64, 40, 56, 72]       110,656\n",
       "│    └─BatchNorm3d: 2-17                 [2, 64, 40, 56, 72]       128\n",
       "│    └─ReLU: 2-18                        [2, 64, 40, 56, 72]       --\n",
       "│    └─Conv3d: 2-19                      [2, 1, 40, 56, 72]        65\n",
       "==========================================================================================\n",
       "Total params: 19,073,665\n",
       "Trainable params: 19,073,665\n",
       "Non-trainable params: 0\n",
       "Total mult-adds (G): 365.39\n",
       "==========================================================================================\n",
       "Input size (MB): 1.29\n",
       "Forward/backward pass size (MB): 1961.16\n",
       "Params size (MB): 76.29\n",
       "Estimated Total Size (MB): 2038.75\n",
       "=========================================================================================="
      ]
     },
     "execution_count": 2,
     "metadata": {},
     "output_type": "execute_result"
    }
   ],
   "source": [
    "sample_unet = UNet(1)\n",
    "summary(sample_unet, (2,1,40,56,72))"
   ]
  },
  {
   "cell_type": "markdown",
   "id": "9111935e-b141-4dc7-9f9f-c9869bdffb07",
   "metadata": {},
   "source": [
    "#### Train-test split"
   ]
  },
  {
   "cell_type": "code",
   "execution_count": 4,
   "id": "0c3f74d8-7218-420b-b548-cc7f2c845988",
   "metadata": {
    "tags": []
   },
   "outputs": [],
   "source": [
    "train_subj, test_subj = get_train_test_subjects(\n",
    "    'harp_metadata.csv',  # change accordingly to where this file is stored\n",
    "    'znorm_cropped_imgs',  # change accordingly to where this folder is stored\n",
    "    42, # fix the split\n",
    "    True\n",
    ")"
   ]
  },
  {
   "cell_type": "markdown",
   "id": "d4840071-7f89-4756-acc6-50d63945ea3b",
   "metadata": {},
   "source": [
    "#### LR Range Test for 3D U-Net$_L$ and 3D U-Net$_R$\n",
    "\n",
    "As explained in: https://arxiv.org/pdf/1506.01186.pdf"
   ]
  },
  {
   "cell_type": "code",
   "execution_count": 12,
   "id": "cb6f520f-0683-4e3b-9789-749787591dbb",
   "metadata": {
    "execution": {
     "iopub.execute_input": "2022-09-22T08:45:28.497590Z",
     "iopub.status.busy": "2022-09-22T08:45:28.497334Z",
     "iopub.status.idle": "2022-09-22T08:45:38.426345Z",
     "shell.execute_reply": "2022-09-22T08:45:38.424635Z",
     "shell.execute_reply.started": "2022-09-22T08:45:28.497572Z"
    }
   },
   "outputs": [
    {
     "data": {
      "image/png": "[encoded data removed]",
      "text/plain": [
       "<Figure size 432x288 with 1 Axes>"
      ]
     },
     "metadata": {
      "needs_background": "light"
     },
     "output_type": "display_data"
    }
   ],
   "source": [
    "lr_test_unet = UNet(1)\n",
    "lr_test_hist = lr_range_test(\n",
    "    lr_test_unet,\n",
    "    'znorm_cropped_imgs',\n",
    "    'L',\n",
    "    train_subj,\n",
    "    transforms=[\n",
    "        tio.RandomNoise(),\n",
    "        tio.OneOf({\n",
    "            tio.RandomAffine(scales=(0.9, 1.1), degrees=5): 0.5,\n",
    "            tio.RandomElasticDeformation(num_control_points=5, max_displacement=7.5, locked_borders=2): 0.5\n",
    "        })\n",
    "    ],\n",
    "    end_lr=0.01\n",
    ")\n",
    "\n",
    "lr_range_plot(lr_test_hist, 'metric')"
   ]
  },
  {
   "cell_type": "code",
   "execution_count": 26,
   "id": "bef35ee0-dcdc-4787-986f-af91350a6d42",
   "metadata": {
    "execution": {
     "iopub.execute_input": "2022-09-22T08:50:05.676140Z",
     "iopub.status.busy": "2022-09-22T08:50:05.675912Z",
     "iopub.status.idle": "2022-09-22T08:50:16.027372Z",
     "shell.execute_reply": "2022-09-22T08:50:16.026883Z",
     "shell.execute_reply.started": "2022-09-22T08:50:05.676140Z"
    }
   },
   "outputs": [
    {
     "data": {
      "image/png": "[encoded data removed]",
      "text/plain": [
       "<Figure size 432x288 with 1 Axes>"
      ]
     },
     "metadata": {
      "needs_background": "light"
     },
     "output_type": "display_data"
    }
   ],
   "source": [
    "lr_test_unet = UNet(1)\n",
    "lr_test_hist = lr_range_test(\n",
    "    lr_test_unet,\n",
    "    'znorm_cropped_imgs',\n",
    "    'R',\n",
    "    train_subj,\n",
    "    transforms=[\n",
    "        tio.RandomNoise(),\n",
    "        tio.OneOf({\n",
    "            tio.RandomAffine(scales=(0.9, 1.1), degrees=5): 0.5,\n",
    "            tio.RandomElasticDeformation(num_control_points=5, max_displacement=7.5, locked_borders=2): 0.5\n",
    "        })\n",
    "    ],\n",
    "    end_lr=0.01\n",
    ")\n",
    "\n",
    "lr_range_plot(lr_test_hist, 'metric')"
   ]
  },
  {
   "cell_type": "markdown",
   "id": "727cbcdd-835d-48b3-9fc9-d00051859fbb",
   "metadata": {},
   "source": [
    "$LR_{max}$ for 3D U-Net$_L$ = 0.005\n",
    "\n",
    "$LR_{max}$ for 3D U-Net$_R$ = 0.0035"
   ]
  },
  {
   "cell_type": "markdown",
   "id": "c9b38f8c-95f3-4c12-9016-3f24bcee0918",
   "metadata": {},
   "source": [
    "#### Hyperparameter Tuning for 3D U-Net\n",
    "\n",
    "For conciseness of this notebook, we will only use one experiment cell each for the left and right hippocampus respectively. However, I strongly recommend to not run these cells because they will take up significant time especially if you do not have a high memory GPU.\n",
    "\n",
    "The cross validation plots ran in our experiments can be obtained by loading the cross validation histories from the \"saved_histories\" folder."
   ]
  },
  {
   "cell_type": "code",
   "execution_count": null,
   "id": "18faed2c-c96f-46f5-9f1c-a82c41900bf1",
   "metadata": {},
   "outputs": [],
   "source": [
    "# DO NOT run unless connected to GPU\n",
    "trainval_hist_3d_L_b2_e50 = skfcv_train_model(\n",
    "    model_class = UNet,\n",
    "    dir_name='znorm_cropped_imgs',\n",
    "    brain_side='L',\n",
    "    meta_file='harp_metadata.csv',\n",
    "    train_ids=train_subj,\n",
    "    transforms=[\n",
    "        tio.RandomNoise(),\n",
    "        tio.OneOf({\n",
    "            tio.RandomAffine(scales=(0.9, 1.1), degrees=5): 0.5,\n",
    "            tio.RandomElasticDeformation(num_control_points=5, max_displacement=7.5, locked_borders=2): 0.5\n",
    "        })\n",
    "    ],\n",
    "    batch_size=2,\n",
    "    num_epochs=50,\n",
    "    max_learn_rate=0.005,\n",
    "    kfold=5,\n",
    "    random_seed=41\n",
    ")\n",
    "\n",
    "np.savez('trainval_hist_3d_L_b2_e50.npz', **trainval_hist_3d_L_b2_e50)"
   ]
  },
  {
   "cell_type": "code",
   "execution_count": null,
   "id": "bf9ef510-d37e-4ef7-86a8-ff1a950430c0",
   "metadata": {},
   "outputs": [],
   "source": [
    "# DO NOT run unless connected to GPU\n",
    "trainval_hist_3d_R_b2_e50 = skfcv_train_model(\n",
    "    model_class = UNet,\n",
    "    dir_name='znorm_cropped_imgs',\n",
    "    brain_side='R',\n",
    "    meta_file='harp_metadata.csv',\n",
    "    train_ids=train_subj,\n",
    "    transforms=[\n",
    "        tio.RandomNoise(),\n",
    "        tio.OneOf({\n",
    "            tio.RandomAffine(scales=(0.9, 1.1), degrees=5): 0.5,\n",
    "            tio.RandomElasticDeformation(num_control_points=5, max_displacement=7.5, locked_borders=2): 0.5\n",
    "        })\n",
    "    ],\n",
    "    batch_size=2,\n",
    "    num_epochs=50,\n",
    "    max_learn_rate=0.0035,\n",
    "    kfold=5,\n",
    "    random_seed=41\n",
    ")\n",
    "\n",
    "np.savez('trainval_hist_3d_R_b2_e50.npz', **trainval_hist_3d_R_b2_e50)"
   ]
  },
  {
   "cell_type": "code",
   "execution_count": 3,
   "id": "96e1fb74-8bf2-4e63-ba0c-70fb9faba5ec",
   "metadata": {
    "tags": []
   },
   "outputs": [
    {
     "data": {
      "image/png": "[encoded data removed]",
      "text/plain": [
       "<Figure size 432x288 with 1 Axes>"
      ]
     },
     "metadata": {
      "needs_background": "light"
     },
     "output_type": "display_data"
    },
    {
     "name": "stdout",
     "output_type": "stream",
     "text": [
      "Per epoch training time = 8.830954766000001\n"
     ]
    }
   ],
   "source": [
    "## Plotting of cross validation outputs from saved histories\n",
    "\n",
    "model_type='3d'\n",
    "brain_side='L'\n",
    "batch_size=2\n",
    "num_epoch=100\n",
    "\n",
    "trainval_hist = np.load('saved_histories/{0}_{2}/trainval_hist_{1}_{2}_b{3}_e{4}.npz'.format(\n",
    "    model_type.upper(), \n",
    "    model_type,\n",
    "    brain_side,\n",
    "    batch_size,\n",
    "    num_epoch\n",
    ")\n",
    "                       )\n",
    "\n",
    "trainval_hist = dict(trainval_hist)\n",
    "\n",
    "plot_val_per_epoch(trainval_hist,\n",
    "                   [('train_dice_per_epoch', 'train'), ('val_dice_per_epoch', 'val')],\n",
    "                  'DSC',\n",
    "                  'DSC during training (Batch size = {0})'.format(batch_size),\n",
    "                  (0.0, 1))\n",
    "\n",
    "print(\"Per epoch training time = {0}\".format(get_train_time(trainval_hist, per_epoch=True, kfcv=True)))"
   ]
  },
  {
   "cell_type": "markdown",
   "id": "48ab09bb-df84-4099-adc4-f28f658547e0",
   "metadata": {},
   "source": [
    "##### Hyperparameter Tuning Results\n",
    "\n",
    "Final hyperparameters for 3D U-Net$_L$:\n",
    "* $LR_{max}$ = 0.005\n",
    "* Mini-batch size = 2\n",
    "* Number of epochs = 50\n",
    "\n",
    "Final hyperparameters for 3D U-Net$_R$:\n",
    "* $LR_{max}$ = 0.0035\n",
    "* Mini-batch size = 2\n",
    "* Number of epochs = 60"
   ]
  },
  {
   "cell_type": "markdown",
   "id": "47709eda-22a6-44be-be7d-8a87047ca78b",
   "metadata": {},
   "source": [
    "#### Training on full training data and Evaluation\n",
    "\n",
    "Strongly suggest to not uncomment and run the training cell if you are not using a device with GPU access (to prevent any crashes). The models trained have been saved under the \"saved_models\" folder as .pth files. Load those instead to prevent any errors due to absence of GPU or a GPU with insufficient memory."
   ]
  },
  {
   "cell_type": "code",
   "execution_count": 28,
   "id": "38f0a351-97ac-4b39-babb-2cca5c1c5c23",
   "metadata": {
    "execution": {
     "iopub.execute_input": "2022-09-22T08:59:28.656562Z",
     "iopub.status.busy": "2022-09-22T08:59:28.656282Z",
     "iopub.status.idle": "2022-09-22T08:59:28.884738Z",
     "shell.execute_reply": "2022-09-22T08:59:28.884159Z",
     "shell.execute_reply.started": "2022-09-22T08:59:28.656543Z"
    }
   },
   "outputs": [],
   "source": [
    "finalUNet_L = UNet(1)\n",
    "finalUNet_R = UNet(1)"
   ]
  },
  {
   "cell_type": "code",
   "execution_count": null,
   "id": "24bc9487-8a17-4e9f-86ea-2bf33458f697",
   "metadata": {},
   "outputs": [],
   "source": [
    "# WARNING, running without a 16GB memory GPU has not been tested, \n",
    "# highly recommended to skip this cell and load the saved models to prevent any system errors\n",
    "# due to hardware constraints.\n",
    "\n",
    "# train_history_L = train_model(\n",
    "#     model=finalUNet_L,\n",
    "#     dir_name='znorm_cropped_imgs',\n",
    "#     brain_side='L',\n",
    "#     train_ids=train_subj,\n",
    "#     transforms=[\n",
    "#         tio.RandomNoise(),\n",
    "#         tio.OneOf({\n",
    "#             tio.RandomAffine(scales=(0.9, 1.1), degrees=5): 0.5,\n",
    "#             tio.RandomElasticDeformation(num_control_points=5, max_displacement=7.5, locked_borders=2): 0.5\n",
    "#         })\n",
    "#     ],\n",
    "#     batch_size=2,\n",
    "#     num_epochs=60,\n",
    "#     max_learn_rate=0.005\n",
    "# )\n",
    "\n",
    "# train_history_R = train_model(\n",
    "#     model=finalUNet_R,\n",
    "#     dir_name='znorm_cropped_imgs',\n",
    "#     brain_side='R',\n",
    "#     train_ids=train_subj,\n",
    "#     transforms=[\n",
    "#         tio.RandomNoise(),\n",
    "#         tio.OneOf({\n",
    "#             tio.RandomAffine(scales=(0.9, 1.1), degrees=5): 0.5,\n",
    "#             tio.RandomElasticDeformation(num_control_points=5, max_displacement=7.5, locked_borders=2): 0.5\n",
    "#         })\n",
    "#     ],\n",
    "#     batch_size=2,\n",
    "#     num_epochs=60,\n",
    "#     max_learn_rate=0.0035\n",
    "# )\n",
    "\n",
    "# np.savez('final_3D_L_trainhist.npz', **train_history_L)\n",
    "# save_model(finalUNet_L, save_path='final_3D_L.pth')\n",
    "\n",
    "# np.savez('final_3D_R_trainhist.npz', **train_history_R)\n",
    "# save_model(finalUNet_R, save_path='final_3D_R.pth')"
   ]
  },
  {
   "cell_type": "code",
   "execution_count": null,
   "id": "90b2b4a3-e57a-4833-9714-b4955d8b8c5b",
   "metadata": {
    "tags": []
   },
   "outputs": [],
   "source": [
    "# Load the saved models\n",
    "finalUNet_L.load_state_dict(torch.load('saved_models/final_3D_L.pth'))\n",
    "finalUNet_L.to('cuda')\n",
    "\n",
    "finalUNet_R.load_state_dict(torch.load('saved_models/final_3D_R.pth'))\n",
    "finalUNet_R.to('cuda')"
   ]
  },
  {
   "cell_type": "markdown",
   "id": "e489e348-2f1e-47e6-a9f2-88f14ec42087",
   "metadata": {},
   "source": [
    "Evaluation of 3D U-Net models on test subjects is done in the below cell. Replace the test_ids argument in the start_eval function with 'ad_test_subj' to get test performance on AD subjects. Same goes for MCI and CN test subjects."
   ]
  },
  {
   "cell_type": "code",
   "execution_count": 33,
   "id": "6f01739d-d7cf-4176-9730-3946fb81c254",
   "metadata": {
    "execution": {
     "iopub.execute_input": "2022-09-22T09:02:47.771308Z",
     "iopub.status.busy": "2022-09-22T09:02:47.770657Z",
     "iopub.status.idle": "2022-09-22T09:02:49.262065Z",
     "shell.execute_reply": "2022-09-22T09:02:49.261546Z",
     "shell.execute_reply.started": "2022-09-22T09:02:47.771287Z"
    }
   },
   "outputs": [
    {
     "name": "stdout",
     "output_type": "stream",
     "text": [
      "## Left hippocampus ##\n",
      "Test Loss: 0.01282, Test DSC: 0.86155, Test Precision: 0.88132, Test Recall: 0.84950\n",
      "## Right hippocampus ##\n",
      "Test Loss: 0.01326, Test DSC: 0.86604, Test Precision: 0.87576, Test Recall: 0.86122\n"
     ]
    }
   ],
   "source": [
    "# Evaluation on test data\n",
    "# Best to run on a machine with GPU as well\n",
    "\n",
    "ad_test_subj = ['123_S_0091','098_S_0149','067_S_0812',\n",
    "               '023_S_0916','020_S_0213','018_S_4696',\n",
    "               '011_S_0010','005_S_1341','002_S_0938']\n",
    "mci_test_subj = ['123_S_1300','100_S_0006','094_S_1293',\n",
    "                 '012_S_1292','007_S_0128','005_S_0448',\n",
    "                 '003_S_0908','002_S_0782']\n",
    "cn_test_subj = ['127_S_0259','100_S_0015','032_S_0479',\n",
    "                '018_S_0425','010_S_0419','010_S_0067',\n",
    "                '002_S_0413','002_S_0295']\n",
    "\n",
    "test_loss_L, test_dsc_L, test_prec_L, test_recall_L = start_eval(model=finalUNet_L,\n",
    "                                                                 dir_name='znorm_cropped_imgs',\n",
    "                                                                 brain_side='L',\n",
    "                                                                 test_ids=test_subj, \n",
    "                                                                 batch_size=1, \n",
    "                                                                 verbose=False)\n",
    "\n",
    "test_loss_R, test_dsc_R, test_prec_R, test_recall_R = start_eval(model=finalUNet_R, \n",
    "                                                                 dir_name='znorm_cropped_imgs', \n",
    "                                                                 brain_side='R',\n",
    "                                                                 test_ids=test_subj, \n",
    "                                                                 batch_size=1, \n",
    "                                                                 verbose=False)\n",
    "\n",
    "print(\"## Left hippocampus ##\")\n",
    "print(\"Test Loss: {0:.5f}, Test DSC: {1:.5f}, Test Precision: {2:.5f}, Test Recall: {3:.5f}\".format(\n",
    "    test_loss_L,\n",
    "    test_dsc_L,\n",
    "    test_prec_L,\n",
    "    test_recall_L)\n",
    "     )\n",
    "print('## Right hippocampus ##')\n",
    "print(\"Test Loss: {0:.5f}, Test DSC: {1:.5f}, Test Precision: {2:.5f}, Test Recall: {3:.5f}\".format(\n",
    "    test_loss_R,\n",
    "    test_dsc_R,\n",
    "    test_prec_R,\n",
    "    test_recall_R)\n",
    "     )"
   ]
  },
  {
   "cell_type": "code",
   "execution_count": 7,
   "id": "dd4b2f4b-abbd-41ab-9ed7-689036af199f",
   "metadata": {},
   "outputs": [
    {
     "name": "stdout",
     "output_type": "stream",
     "text": [
      "## 3D U-Net for left hippocampus ##\n",
      "Total training time = 515.595418\n",
      "## 3D U-Net for right hippocampus ##\n",
      "Total training time = 623.277448\n"
     ]
    }
   ],
   "source": [
    "# Total training time\n",
    "final_3D_L_hist = dict(np.load(\"saved_histories/final_3D_L/final_3D_L_trainhist.npz\"))\n",
    "final_3D_R_hist = dict(np.load(\"saved_histories/final_3D_R/final_3D_R_trainhist.npz\"))\n",
    "print(\"## 3D U-Net for left hippocampus ##\")\n",
    "print(\"Total training time = {0}\".format(get_train_time(final_3D_L_hist, per_epoch=False, kfcv=False)))\n",
    "print(\"## 3D U-Net for right hippocampus ##\")\n",
    "print(\"Total training time = {0}\".format(get_train_time(final_3D_R_hist, per_epoch=False, kfcv=False)))"
   ]
  },
  {
   "cell_type": "markdown",
   "id": "da547cf3-d2ef-433f-a657-dc98dabe5561",
   "metadata": {},
   "source": [
    "#### Generate predicted segmentation masks\n",
    "\n",
    "The model_predict function generates a new NIfTI file that contains the predicted hippocampus segmentation mask. The code in the below cell was used to generate the prediction for subject 011_S_0010's left hippocampus using the 3D U-Net. It is stored inside the folder 'znorm_cropped_imgs/011_S_0010/' with the file name 'PRED_LH_011_S_0010.nii'. \n",
    "\n",
    "This segmentation can be interactively visualized using medical imaging software. In this thesis, ITK-Snap was used (http://www.itksnap.org/pmwiki/pmwiki.php) for visualization purposes, however other software such as FSL and FreeSurfer should work fine as well."
   ]
  },
  {
   "cell_type": "code",
   "execution_count": null,
   "id": "a6fcd5d7-909d-4e2e-a85f-09e624248694",
   "metadata": {},
   "outputs": [],
   "source": [
    "net3d = UNet(1)\n",
    "\n",
    "model_predict(\n",
    "    model=net3d,\n",
    "    dir_name='znorm_cropped_imgs',\n",
    "    subj_id='011_S_0010',\n",
    "    brain_side='L',\n",
    "    model_file='saved_models/final_3D_L.pth'\n",
    ")"
   ]
  }
 ],
 "metadata": {
  "kernelspec": {
   "display_name": "Python 3 (ipykernel)",
   "language": "python",
   "name": "python3"
  },
  "language_info": {
   "codemirror_mode": {
    "name": "ipython",
    "version": 3
   },
   "file_extension": ".py",
   "mimetype": "text/x-python",
   "name": "python",
   "nbconvert_exporter": "python",
   "pygments_lexer": "ipython3",
   "version": "3.9.7"
  }
 },
 "nbformat": 4,
 "nbformat_minor": 5
}
