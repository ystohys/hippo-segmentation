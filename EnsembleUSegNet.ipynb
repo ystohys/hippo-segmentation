{
 "cells": [
  {
   "cell_type": "markdown",
   "id": "1987006f-9d10-4708-8806-cb006841184f",
   "metadata": {},
   "source": [
    "# EnsembleUSegNet\n",
    "Since the Ensemble USegNet is an ensemble model made up of 2D U-Seg-Nets, majority of this Jupyter notebook will contain the following processes about 2D U-Seg-Net:\n",
    "\n",
    "* Number of parameters\n",
    "* Hyperparameter Tuning \n",
    "* Training and Test Evaluation"
   ]
  },
  {
   "cell_type": "code",
   "execution_count": 4,
   "id": "ace02f57-76d9-4dd0-9fd3-b08c25ddb4ba",
   "metadata": {
    "tags": []
   },
   "outputs": [],
   "source": [
    "# Import necessary libraries\n",
    "import numpy as np\n",
    "import torchio as tio\n",
    "from torchinfo import summary\n",
    "\n",
    "# Custom modules containing my implementation of the models with PyTorch and also some helper functions\n",
    "from models.usegnet import SingleViewUSegNet\n",
    "from model_utils.train_eval import *\n",
    "from data_utils.dataset import *"
   ]
  },
  {
   "cell_type": "code",
   "execution_count": 5,
   "id": "c4238256-4409-4ec9-bfe5-c32184546a85",
   "metadata": {},
   "outputs": [
    {
     "data": {
      "text/plain": [
       "==========================================================================================\n",
       "Layer (type:depth-idx)                   Output Shape              Param #\n",
       "==========================================================================================\n",
       "SingleViewUSegNet                        --                        --\n",
       "├─ModuleList: 1-1                        --                        --\n",
       "├─ModuleList: 1-2                        --                        --\n",
       "├─ModuleList: 1-1                        --                        --\n",
       "│    └─Sequential: 2-1                   [2, 32, 40, 56]           --\n",
       "│    │    └─Conv2d: 3-1                  [2, 32, 40, 56]           320\n",
       "│    │    └─BatchNorm2d: 3-2             [2, 32, 40, 56]           64\n",
       "│    │    └─ReLU: 3-3                    [2, 32, 40, 56]           --\n",
       "├─MaxPool2d: 1-3                         [2, 32, 20, 28]           --\n",
       "├─ModuleList: 1-1                        --                        --\n",
       "│    └─Sequential: 2-2                   [2, 64, 20, 28]           --\n",
       "│    │    └─Conv2d: 3-4                  [2, 64, 20, 28]           18,496\n",
       "│    │    └─BatchNorm2d: 3-5             [2, 64, 20, 28]           128\n",
       "│    │    └─ReLU: 3-6                    [2, 64, 20, 28]           --\n",
       "├─MaxPool2d: 1-4                         [2, 64, 10, 14]           --\n",
       "├─Sequential: 1-5                        [2, 128, 10, 14]          --\n",
       "│    └─Conv2d: 2-3                       [2, 128, 10, 14]          73,856\n",
       "│    └─MaxPool2d: 2-4                    [2, 128, 5, 7]            --\n",
       "│    └─ConvTranspose2d: 2-5              [2, 128, 10, 14]          65,664\n",
       "├─ModuleList: 1-2                        --                        --\n",
       "│    └─Sequential: 2-6                   [2, 128, 20, 28]          --\n",
       "│    │    └─Conv2d: 3-7                  [2, 128, 10, 14]          221,312\n",
       "│    │    └─BatchNorm2d: 3-8             [2, 128, 10, 14]          256\n",
       "│    │    └─ReLU: 3-9                    [2, 128, 10, 14]          --\n",
       "│    │    └─ConvTranspose2d: 3-10        [2, 128, 20, 28]          65,664\n",
       "│    │    └─Dropout2d: 3-11              [2, 128, 20, 28]          --\n",
       "│    └─Sequential: 2-7                   [2, 128, 40, 56]          --\n",
       "│    │    └─Conv2d: 3-12                 [2, 128, 20, 28]          184,448\n",
       "│    │    └─BatchNorm2d: 3-13            [2, 128, 20, 28]          256\n",
       "│    │    └─ReLU: 3-14                   [2, 128, 20, 28]          --\n",
       "│    │    └─ConvTranspose2d: 3-15        [2, 128, 40, 56]          65,664\n",
       "│    │    └─Dropout2d: 3-16              [2, 128, 40, 56]          --\n",
       "├─Conv2d: 1-6                            [2, 1, 40, 56]            1,153\n",
       "==========================================================================================\n",
       "Total params: 697,281\n",
       "Trainable params: 697,281\n",
       "Non-trainable params: 0\n",
       "Total mult-adds (M): 702.65\n",
       "==========================================================================================\n",
       "Input size (MB): 0.02\n",
       "Forward/backward pass size (MB): 12.65\n",
       "Params size (MB): 2.79\n",
       "Estimated Total Size (MB): 15.46\n",
       "=========================================================================================="
      ]
     },
     "execution_count": 5,
     "metadata": {},
     "output_type": "execute_result"
    }
   ],
   "source": [
    "sample_unet = SingleViewUSegNet()\n",
    "summary(sample_unet, (2,1,40,56))"
   ]
  },
  {
   "cell_type": "markdown",
   "id": "8b8f4fe9-1ca2-4727-b522-3e257e5bc2c9",
   "metadata": {},
   "source": [
    "#### Train-test split"
   ]
  },
  {
   "cell_type": "code",
   "execution_count": 3,
   "id": "d5b74b39-f3d0-484b-821f-5ad345f57c0e",
   "metadata": {
    "tags": []
   },
   "outputs": [],
   "source": [
    "train_subj, test_subj = get_train_test_subjects(\n",
    "    'harp_metadata.csv',  # change accordingly to where this file is stored\n",
    "    'znorm_cropped_imgs',  # change accordingly to where this folder is stored\n",
    "    42, # fix the split\n",
    "    True\n",
    ")"
   ]
  },
  {
   "cell_type": "markdown",
   "id": "099e7712-6ca9-4c4f-8062-6e9ae18f5d0d",
   "metadata": {},
   "source": [
    "#### LR Range Test for 2D U-Seg-Nets\n",
    "\n",
    "As explained in: https://arxiv.org/pdf/1506.01186.pdf (For conciseness, we only show for the sagittal models of the left and right hippocampi)"
   ]
  },
  {
   "cell_type": "code",
   "execution_count": 11,
   "id": "357a5861-5a8f-421b-ab9b-2c5f578d60c7",
   "metadata": {
    "execution": {
     "iopub.execute_input": "2022-09-22T10:22:00.733485Z",
     "iopub.status.busy": "2022-09-22T10:22:00.732738Z",
     "iopub.status.idle": "2022-09-22T10:22:09.687048Z",
     "shell.execute_reply": "2022-09-22T10:22:09.686481Z",
     "shell.execute_reply.started": "2022-09-22T10:22:00.733460Z"
    }
   },
   "outputs": [
    {
     "data": {
      "image/png": "[encoded data removed]",
      "text/plain": [
       "<Figure size 432x288 with 1 Axes>"
      ]
     },
     "metadata": {
      "needs_background": "light"
     },
     "output_type": "display_data"
    }
   ],
   "source": [
    "lr_test_2dunet = SingleViewUSegNet()\n",
    "lr_test_hist_2d = lr_range_test_2d(\n",
    "    model=lr_test_2dunet,\n",
    "    view=0,  # change this according to the desired view\n",
    "    dir_name='znorm_cropped_imgs',\n",
    "    brain_side='L',\n",
    "    train_ids=train_subj,\n",
    "    batch_size=2,\n",
    "    end_lr=0.01\n",
    ")\n",
    "\n",
    "lr_range_plot(lr_test_hist_2d, 'metric')"
   ]
  },
  {
   "cell_type": "code",
   "execution_count": 18,
   "id": "24c4c489-0ade-44e0-83d2-2882b12ca481",
   "metadata": {
    "execution": {
     "iopub.execute_input": "2022-09-22T10:24:33.304944Z",
     "iopub.status.busy": "2022-09-22T10:24:33.304027Z",
     "iopub.status.idle": "2022-09-22T10:24:42.379675Z",
     "shell.execute_reply": "2022-09-22T10:24:42.379196Z",
     "shell.execute_reply.started": "2022-09-22T10:24:33.304906Z"
    }
   },
   "outputs": [
    {
     "data": {
      "image/png": "[encoded data removed]",
      "text/plain": [
       "<Figure size 432x288 with 1 Axes>"
      ]
     },
     "metadata": {
      "needs_background": "light"
     },
     "output_type": "display_data"
    }
   ],
   "source": [
    "lr_test_2dunet = SingleViewUSegNet()\n",
    "lr_test_hist_2d = lr_range_test_2d(\n",
    "    model=lr_test_2dunet,\n",
    "    view=0,  # change this according to the desired view\n",
    "    dir_name='znorm_cropped_imgs',\n",
    "    brain_side='R',\n",
    "    train_ids=train_subj,\n",
    "    batch_size=2,\n",
    "    end_lr=0.01\n",
    ")\n",
    "\n",
    "lr_range_plot(lr_test_hist_2d, 'metric')"
   ]
  },
  {
   "cell_type": "markdown",
   "id": "8885e454-7b10-4ae6-8be4-e0d9e29f7988",
   "metadata": {},
   "source": [
    "#### Hyperparameter Tuning for 2D U-Seg-Nets\n",
    "\n",
    "For conciseness of this notebook, we will only use one experiment cell each for the left and right hippocampus respectively. Note that in this thesis, we tuned for a total of six U-Seg-Nets, with three views each for the left and right hippocampus. Tuning is performed by changing the batch_size and num_epochs function arguments respectively.\n",
    "\n",
    "However, I strongly recommend to not run these cells because they will take up significant time especially if you do not have a high memory GPU.\n",
    "\n",
    "The cross validation plots ran in our experiments can be obtained by loading the cross validation histories from the \"saved_histories\" folder."
   ]
  },
  {
   "cell_type": "code",
   "execution_count": null,
   "id": "a3dbce8d-bcc4-48d7-8c94-596380629073",
   "metadata": {},
   "outputs": [],
   "source": [
    "# DO NOT run unless connected to GPU\n",
    "trainval_hist_2d_L0_b2_e50 = skfcv_train_2d_model(\n",
    "    model_class = SingleViewUSegNet,\n",
    "    view=0,\n",
    "    dir_name='znorm_cropped_imgs',\n",
    "    brain_side='L',\n",
    "    meta_file='harp_metadata.csv',\n",
    "    train_ids=train_subj,\n",
    "    batch_size=4,\n",
    "    num_epochs=50,\n",
    "    max_learn_rate=0.009,\n",
    "    kfold=5,\n",
    "    random_seed=41\n",
    ")\n",
    "\n",
    "np.savez('trainval_hist_2d_L0_b2_e50.npz', **trainval_hist_2d_L0_b2_e50)"
   ]
  },
  {
   "cell_type": "code",
   "execution_count": null,
   "id": "e91ef798-c87a-4396-82bc-8757d372dda7",
   "metadata": {},
   "outputs": [],
   "source": [
    "# DO NOT run unless connected to GPU\n",
    "trainval_hist_2d_R0_b2_e50 = skfcv_train_2d_model(\n",
    "    model_class = SingleViewUSegNet,\n",
    "    view=0,\n",
    "    dir_name='znorm_cropped_imgs',\n",
    "    brain_side='R',\n",
    "    meta_file='harp_metadata.csv',\n",
    "    train_ids=train_subj,\n",
    "    batch_size=2,\n",
    "    num_epochs=50,\n",
    "    max_learn_rate=0.009,\n",
    "    kfold=5,\n",
    "    random_seed=41\n",
    ")\n",
    "\n",
    "np.savez('trainval_hist_2d_R0_b2_e50.npz', **trainval_hist_2d_R0_b2_e50)"
   ]
  },
  {
   "cell_type": "code",
   "execution_count": 8,
   "id": "a2e39606-d90a-4bda-8596-ccc8f2f7301c",
   "metadata": {},
   "outputs": [
    {
     "data": {
      "image/png": "[encoded data removed]",
      "text/plain": [
       "<Figure size 432x288 with 1 Axes>"
      ]
     },
     "metadata": {
      "needs_background": "light"
     },
     "output_type": "display_data"
    },
    {
     "name": "stdout",
     "output_type": "stream",
     "text": [
      "Per epoch training time = 8.1750855\n"
     ]
    }
   ],
   "source": [
    "## Plotting of cross validation outputs from saved histories\n",
    "\n",
    "model_type='2d'\n",
    "brain_side='L0'\n",
    "batch_size=2\n",
    "num_epoch=50\n",
    "\n",
    "trainval_hist = np.load('saved_histories/{0}_{2}/trainval_hist_{1}_{2}_b{3}_e{4}.npz'.format(\n",
    "    model_type.upper(), \n",
    "    model_type,\n",
    "    brain_side,\n",
    "    batch_size,\n",
    "    num_epoch\n",
    ")\n",
    "                       )\n",
    "\n",
    "trainval_hist = dict(trainval_hist)\n",
    "\n",
    "plot_val_per_epoch(trainval_hist,\n",
    "                   [('train_dice_per_epoch', 'train'), ('val_dice_per_epoch', 'val')],\n",
    "                  'DSC',\n",
    "                  'DSC during training (Batch size = {0})'.format(batch_size),\n",
    "                  (0.0, 1))\n",
    "\n",
    "print(\"Per epoch training time = {0}\".format(get_train_time(trainval_hist, per_epoch=True, kfcv=True)))"
   ]
  },
  {
   "cell_type": "markdown",
   "id": "e57b5876-0e11-4920-b09c-bc6735ba6d9e",
   "metadata": {},
   "source": [
    "##### Hyperparameter Tuning Results\n",
    "\n",
    "| Model | LR$_{max}$ | Mini-batch size | Number of epochs |\n",
    "| :-: | :-: | :-: | :-: |\n",
    "| U-Seg-Net$_{L0}$ | 0.009 | 160 | 20 |\n",
    "| U-Seg-Net$_{L1}$ | 0.008 | 224 | 18 |\n",
    "| U-Seg-Net$_{L2}$ | 0.0085 | 288 | 22 |\n",
    "| U-Seg-Net$_{R0}$ | 0.009 | 80 | 25 |\n",
    "| U-Seg-Net$_{R1}$ | 0.008 | 224 | 25 |\n",
    "| U-Seg-Net$_{R2}$ | 0.008 | 288 | 20 |"
   ]
  },
  {
   "cell_type": "markdown",
   "id": "05a67554-b0d0-4626-bf1a-43e5cb211553",
   "metadata": {},
   "source": [
    "#### Training on full training data and Evaluation\n",
    "\n",
    "Strongly suggest to not uncomment and run the training cell if you are not using a device with GPU access (to prevent any crashes). The models trained have been saved under the \"saved_models\" folder as .pth files. Load those instead to prevent any errors due to absence of GPU or a GPU with insufficient memory.\n",
    "\n",
    "**NOTE:** To keep this notebook concise, we only show the test performances of the U-Seg-Nets and Ensemble USegNet corresponding to the left hippocampus. However, the saved training histories and models can also be found in the saved_histories and saved_models folder respectively."
   ]
  },
  {
   "cell_type": "code",
   "execution_count": 19,
   "id": "6296644d-483f-4605-95e0-d5ab3206eff0",
   "metadata": {
    "execution": {
     "iopub.execute_input": "2022-09-22T10:25:01.085933Z",
     "iopub.status.busy": "2022-09-22T10:25:01.085055Z",
     "iopub.status.idle": "2022-09-22T10:25:01.104681Z",
     "shell.execute_reply": "2022-09-22T10:25:01.104200Z",
     "shell.execute_reply.started": "2022-09-22T10:25:01.085904Z"
    }
   },
   "outputs": [],
   "source": [
    "usegnet_L0 = SingleViewUSegNet()  # sagittal\n",
    "usegnet_L1 = SingleViewUSegNet()  # coronal\n",
    "usegnet_L2 = SingleViewUSegNet()  # axial"
   ]
  },
  {
   "cell_type": "code",
   "execution_count": null,
   "id": "cf92b1d4-2ef2-4ccf-a490-4ddcb787df82",
   "metadata": {},
   "outputs": [],
   "source": [
    "# WARNING, running without a 16GB memory GPU has not been tested, \n",
    "# highly recommended to skip this cell and load the saved models to prevent any system errors\n",
    "# due to hardware constraints.\n",
    "\n",
    "# sag_train_history_L = train_2d_model(\n",
    "#     model=usegnet_L0,\n",
    "#     view=0,\n",
    "#     dir_name='znorm_cropped_imgs',\n",
    "#     brain_side='L',\n",
    "#     train_ids=train_subj,\n",
    "#     batch_size=4,  # corresponds to number of subjects\n",
    "#     num_epochs=20,\n",
    "#     max_learn_rate=0.009\n",
    "# )\n",
    "# coro_train_history_L = train_2d_model(\n",
    "#     model=usegnet_L1,\n",
    "#     view=1,\n",
    "#     dir_name='znorm_cropped_imgs',\n",
    "#     brain_side='L',\n",
    "#     train_ids=train_subj,\n",
    "#     batch_size=2,  # corresponds to number of subjects\n",
    "#     num_epochs=18,\n",
    "#     max_learn_rate=0.008\n",
    "# )\n",
    "\n",
    "# axial_train_history_L = train_2d_model(\n",
    "#     model=usegnet_L2,\n",
    "#     view=2,\n",
    "#     dir_name='znorm_cropped_imgs',\n",
    "#     brain_side='L',\n",
    "#     train_ids=train_subj,\n",
    "#     batch_size=4,  # corresponds to number of subjects\n",
    "#     num_epochs=22,\n",
    "#     max_learn_rate=0.0085\n",
    "# )\n",
    "\n",
    "# np.savez('final_2D_L0_trainhist.npz', **sag_train_history_L)\n",
    "# save_model(usegnet_L0, save_path='final_2D_L0.pth')\n",
    "\n",
    "# np.savez('final_2D_L1_trainhist.npz', **coro_train_history_L)\n",
    "# save_model(usegnet_L1, save_path='final_2D_L1.pth')\n",
    "\n",
    "# np.savez('final_2D_L2_trainhist.npz', **axial_train_history_L)\n",
    "# save_model(usegnet_L2, save_path='final_2D_L2.pth')"
   ]
  },
  {
   "cell_type": "code",
   "execution_count": null,
   "id": "66f7c829-61c0-434e-9f42-527b30e2bef2",
   "metadata": {
    "tags": []
   },
   "outputs": [],
   "source": [
    "# Load the saved models\n",
    "usegnet_L0.load_state_dict(torch.load('saved_models/final_2D_L0.pth'))\n",
    "usegnet_L0.to('cuda')\n",
    "\n",
    "usegnet_L1.load_state_dict(torch.load('saved_models/final_2D_L1.pth'))\n",
    "usegnet_L1.to('cuda')\n",
    "\n",
    "usegnet_L2.load_state_dict(torch.load('saved_models/final_2D_L2.pth'))\n",
    "usegnet_L2.to('cuda')"
   ]
  },
  {
   "cell_type": "code",
   "execution_count": 22,
   "id": "dc208678-cb27-4de8-b16e-38da6ab6ba51",
   "metadata": {
    "execution": {
     "iopub.execute_input": "2022-09-22T10:25:46.433301Z",
     "iopub.status.busy": "2022-09-22T10:25:46.432467Z",
     "iopub.status.idle": "2022-09-22T10:25:52.203261Z",
     "shell.execute_reply": "2022-09-22T10:25:52.202609Z",
     "shell.execute_reply.started": "2022-09-22T10:25:46.433274Z"
    }
   },
   "outputs": [
    {
     "name": "stdout",
     "output_type": "stream",
     "text": [
      "## Left hippocampus, sagittal model ##\n",
      "Test Loss: 0.01304, Test DSC: 0.83427, Test Precision: 0.85802, Test Recall: 0.82694\n",
      "## Left hippocampus, coronal model ##\n",
      "Test Loss: 0.01440, Test DSC: 0.83976, Test Precision: 0.82444, Test Recall: 0.86088\n",
      "## Left hippocampus, axial model ##\n",
      "Test Loss: 0.01495, Test DSC: 0.82825, Test Precision: 0.86929, Test Recall: 0.79860\n"
     ]
    }
   ],
   "source": [
    "# Evaluation on test data\n",
    "# Best to run on a machine with GPU as well\n",
    "\n",
    "test_loss_L0, test_dsc_L0, test_prec_L0, test_recall_L0 = start_2d_eval(model=usegnet_L0,\n",
    "                                                                        view=0,\n",
    "                                                                        dir_name='znorm_cropped_imgs',\n",
    "                                                                        brain_side='L', \n",
    "                                                                        test_ids=test_subj,\n",
    "                                                                        batch_size=1, \n",
    "                                                                        verbose=False)\n",
    "\n",
    "\n",
    "test_loss_L1, test_dsc_L1, test_prec_L1, test_recall_L1 = start_2d_eval(model=usegnet_L1,\n",
    "                                                                        view=1,\n",
    "                                                                        dir_name='znorm_cropped_imgs',\n",
    "                                                                        brain_side='L', \n",
    "                                                                        test_ids=test_subj,\n",
    "                                                                        batch_size=1,\n",
    "                                                                        verbose=False)\n",
    "\n",
    "\n",
    "test_loss_L2, test_dsc_L2, test_prec_L2, test_recall_L2 = start_2d_eval(model=usegnet_L2,\n",
    "                                                                        view=2, \n",
    "                                                                        dir_name='znorm_cropped_imgs',\n",
    "                                                                        brain_side='L', \n",
    "                                                                        test_ids=test_subj,\n",
    "                                                                        batch_size=1, \n",
    "                                                                        verbose=False)\n",
    "print(\"## Left hippocampus, sagittal model ##\")\n",
    "print(\"Test Loss: {0:.5f}, Test DSC: {1:.5f}, Test Precision: {2:.5f}, Test Recall: {3:.5f}\".format(\n",
    "    test_loss_L0,\n",
    "    test_dsc_L0,\n",
    "    test_prec_L0,\n",
    "    test_recall_L0)\n",
    "     )\n",
    "print('## Left hippocampus, coronal model ##')\n",
    "print(\"Test Loss: {0:.5f}, Test DSC: {1:.5f}, Test Precision: {2:.5f}, Test Recall: {3:.5f}\".format(\n",
    "    test_loss_L1,\n",
    "    test_dsc_L1,\n",
    "    test_prec_L1,\n",
    "    test_recall_L1)\n",
    "     )\n",
    "print(\"## Left hippocampus, axial model ##\")\n",
    "print(\"Test Loss: {0:.5f}, Test DSC: {1:.5f}, Test Precision: {2:.5f}, Test Recall: {3:.5f}\".format(\n",
    "    test_loss_L2,\n",
    "    test_dsc_L2,\n",
    "    test_prec_L2,\n",
    "    test_recall_L2)\n",
    "     )"
   ]
  },
  {
   "cell_type": "markdown",
   "id": "1038d395-79dc-4adc-94b1-22ba7c25f2b1",
   "metadata": {},
   "source": [
    "In the next cell, the three models above are ensembled together to give the final segmentation mask for EnsembleUSegNet$_L$. Note that ad_test_subj, mci_test_subj and cn_test_subj are the test subjects who have AD, MCI and CN respectively. Change the test_ids argument in the start_ensemble_eval function to any of these in order to get the corresponding test performance on a specific disease stage."
   ]
  },
  {
   "cell_type": "code",
   "execution_count": 23,
   "id": "98ad5cbf-9bcd-4f0f-a9c2-5e9d54ad649a",
   "metadata": {
    "execution": {
     "iopub.execute_input": "2022-09-22T10:26:29.785606Z",
     "iopub.status.busy": "2022-09-22T10:26:29.785322Z",
     "iopub.status.idle": "2022-09-22T10:26:34.322991Z",
     "shell.execute_reply": "2022-09-22T10:26:34.322274Z",
     "shell.execute_reply.started": "2022-09-22T10:26:29.785586Z"
    }
   },
   "outputs": [
    {
     "name": "stdout",
     "output_type": "stream",
     "text": [
      "## Left hippocampus, EnsembleUSegNet ##\n",
      "Test DSC: 0.86843, Test Precision: 0.88653, Test Recall: 0.85543\n"
     ]
    }
   ],
   "source": [
    "# Ensembling the models together to get final test performance\n",
    "\n",
    "ad_test_subj = ['123_S_0091','098_S_0149','067_S_0812',\n",
    "               '023_S_0916','020_S_0213','018_S_4696',\n",
    "               '011_S_0010','005_S_1341','002_S_0938']\n",
    "mci_test_subj = ['123_S_1300','100_S_0006','094_S_1293',\n",
    "                 '012_S_1292','007_S_0128','005_S_0448',\n",
    "                 '003_S_0908','002_S_0782']\n",
    "cn_test_subj = ['127_S_0259','100_S_0015','032_S_0479',\n",
    "                '018_S_0425','010_S_0419','010_S_0067',\n",
    "                '002_S_0413','002_S_0295']\n",
    "\n",
    "mean_dice, mean_precision, mean_recall = start_ensemble_eval(\n",
    "    model1=usegnet_L0,\n",
    "    model2=usegnet_L1,\n",
    "    model3=usegnet_L2,\n",
    "    dir_name='znorm_cropped_imgs',\n",
    "    brain_side='L',\n",
    "    test_ids=test_subj,\n",
    "    batch_size=1,\n",
    "    verbose=False\n",
    ")\n",
    "\n",
    "print(\"## Left hippocampus, EnsembleUSegNet ##\")\n",
    "print(\"Test DSC: {0:.5f}, Test Precision: {1:.5f}, Test Recall: {2:.5f}\".format(\n",
    "    mean_dice,\n",
    "    mean_precision,\n",
    "    mean_recall)\n",
    "     )"
   ]
  },
  {
   "cell_type": "markdown",
   "id": "f0f14e88-abec-41e2-91f2-60cf2711e235",
   "metadata": {},
   "source": [
    "#### Generate predicted segmentation masks\n",
    "\n",
    "The ensemble_model_predict function generates a new NIfTI file that contains the predicted hippocampus segmentation mask from the EnsembleUSegNet model. The code in the below cell was used to generate the prediction for subject 011_S_0010's left hippocampus using the EnsembleUSegNet. It is stored inside the folder 'znorm_cropped_imgs/011_S_0010/' with the file name 'E_PRED_LH_011_S_0010.nii'.\n",
    "\n",
    "This segmentation can be interactively visualized using medical imaging software. In this thesis, ITK-Snap was used (http://www.itksnap.org/pmwiki/pmwiki.php) for visualization purposes, however other software such as FSL and FreeSurfer should work fine as well."
   ]
  },
  {
   "cell_type": "code",
   "execution_count": null,
   "id": "1aa8ec13-0797-406c-aaa2-38f358e53ef5",
   "metadata": {},
   "outputs": [],
   "source": [
    "sag_net = SingleViewUSegNet()\n",
    "coro_net = SingleViewUSegNet()\n",
    "axial_net = SingleViewUSegNet()\n",
    "\n",
    "ensemble_model_predict(\n",
    "    model1=sag_net,\n",
    "    model2=coro_net,\n",
    "    model3=axial_net,\n",
    "    dir_name='znorm_cropped_imgs',\n",
    "    subj_id='011_S_0010',\n",
    "    brain_side='L',\n",
    "    model_file=['saved_models/final_2D_L0.pth', \n",
    "                'saved_models/final_2D_L1.pth', \n",
    "                'saved_models/final_2D_L2.pth']\n",
    ")"
   ]
  }
 ],
 "metadata": {
  "kernelspec": {
   "display_name": "Python 3 (ipykernel)",
   "language": "python",
   "name": "python3"
  },
  "language_info": {
   "codemirror_mode": {
    "name": "ipython",
    "version": 3
   },
   "file_extension": ".py",
   "mimetype": "text/x-python",
   "name": "python",
   "nbconvert_exporter": "python",
   "pygments_lexer": "ipython3",
   "version": "3.9.7"
  }
 },
 "nbformat": 4,
 "nbformat_minor": 5
}
